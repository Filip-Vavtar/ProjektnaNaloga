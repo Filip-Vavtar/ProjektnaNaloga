{
 "cells": [
  {
   "cell_type": "markdown",
   "metadata": {},
   "source": [
    "# ANALIZA PODATKOV"
   ]
  },
  {
   "cell_type": "code",
   "execution_count": 35,
   "metadata": {},
   "outputs": [
    {
     "data": {
      "text/html": [
       "<div>\n",
       "<style scoped>\n",
       "    .dataframe tbody tr th:only-of-type {\n",
       "        vertical-align: middle;\n",
       "    }\n",
       "\n",
       "    .dataframe tbody tr th {\n",
       "        vertical-align: top;\n",
       "    }\n",
       "\n",
       "    .dataframe thead th {\n",
       "        text-align: right;\n",
       "    }\n",
       "</style>\n",
       "<table border=\"1\" class=\"dataframe\">\n",
       "  <thead>\n",
       "    <tr style=\"text-align: right;\">\n",
       "      <th></th>\n",
       "      <th>atomsko_st</th>\n",
       "      <th>simbol</th>\n",
       "      <th>ime</th>\n",
       "      <th>izvor_imena</th>\n",
       "      <th>skupina</th>\n",
       "      <th>perioda</th>\n",
       "      <th>blok</th>\n",
       "      <th>rel_at_masa</th>\n",
       "      <th>gostota</th>\n",
       "      <th>talisce</th>\n",
       "      <th>vrelisce</th>\n",
       "      <th>spec_toplota</th>\n",
       "      <th>el_neg</th>\n",
       "      <th>pogostost_v_zem_skorji</th>\n",
       "      <th>izvor</th>\n",
       "      <th>argegato</th>\n",
       "    </tr>\n",
       "  </thead>\n",
       "  <tbody>\n",
       "    <tr>\n",
       "      <th>0</th>\n",
       "      <td>1</td>\n",
       "      <td>H</td>\n",
       "      <td>Hydrogen</td>\n",
       "      <td>Greek elements hydro- and -gen, 'water-forming'</td>\n",
       "      <td>1</td>\n",
       "      <td>1</td>\n",
       "      <td>s-block</td>\n",
       "      <td>1.0080</td>\n",
       "      <td>0.000090</td>\n",
       "      <td>14.01</td>\n",
       "      <td>20.28</td>\n",
       "      <td>14.304</td>\n",
       "      <td>2.20</td>\n",
       "      <td>1400</td>\n",
       "      <td>primordial</td>\n",
       "      <td>gas</td>\n",
       "    </tr>\n",
       "    <tr>\n",
       "      <th>1</th>\n",
       "      <td>2</td>\n",
       "      <td>He</td>\n",
       "      <td>Helium</td>\n",
       "      <td>Greek hḗlios, 'sun'</td>\n",
       "      <td>18</td>\n",
       "      <td>1</td>\n",
       "      <td>s-block</td>\n",
       "      <td>4.0026</td>\n",
       "      <td>0.000179</td>\n",
       "      <td>NaN</td>\n",
       "      <td>4.22</td>\n",
       "      <td>5.193</td>\n",
       "      <td>NaN</td>\n",
       "      <td>0.008</td>\n",
       "      <td>primordial</td>\n",
       "      <td>gas</td>\n",
       "    </tr>\n",
       "    <tr>\n",
       "      <th>2</th>\n",
       "      <td>3</td>\n",
       "      <td>Li</td>\n",
       "      <td>Lithium</td>\n",
       "      <td>Greek líthos, 'stone'</td>\n",
       "      <td>1</td>\n",
       "      <td>2</td>\n",
       "      <td>s-block</td>\n",
       "      <td>6.9400</td>\n",
       "      <td>0.534000</td>\n",
       "      <td>453.69</td>\n",
       "      <td>1560.00</td>\n",
       "      <td>3.582</td>\n",
       "      <td>0.98</td>\n",
       "      <td>20</td>\n",
       "      <td>primordial</td>\n",
       "      <td>solid</td>\n",
       "    </tr>\n",
       "    <tr>\n",
       "      <th>3</th>\n",
       "      <td>4</td>\n",
       "      <td>Be</td>\n",
       "      <td>Beryllium</td>\n",
       "      <td>Beryl, a mineral (ultimately from the name of ...</td>\n",
       "      <td>2</td>\n",
       "      <td>2</td>\n",
       "      <td>s-block</td>\n",
       "      <td>9.0122</td>\n",
       "      <td>1.850000</td>\n",
       "      <td>1560.00</td>\n",
       "      <td>2742.00</td>\n",
       "      <td>1.825</td>\n",
       "      <td>1.57</td>\n",
       "      <td>2.8</td>\n",
       "      <td>primordial</td>\n",
       "      <td>solid</td>\n",
       "    </tr>\n",
       "    <tr>\n",
       "      <th>4</th>\n",
       "      <td>5</td>\n",
       "      <td>B</td>\n",
       "      <td>Boron</td>\n",
       "      <td>Borax, a mineral (from Arabic bawraq, Middle P...</td>\n",
       "      <td>13</td>\n",
       "      <td>2</td>\n",
       "      <td>p-block</td>\n",
       "      <td>10.8100</td>\n",
       "      <td>2.340000</td>\n",
       "      <td>2349.00</td>\n",
       "      <td>4200.00</td>\n",
       "      <td>1.026</td>\n",
       "      <td>2.04</td>\n",
       "      <td>10</td>\n",
       "      <td>primordial</td>\n",
       "      <td>solid</td>\n",
       "    </tr>\n",
       "    <tr>\n",
       "      <th>...</th>\n",
       "      <td>...</td>\n",
       "      <td>...</td>\n",
       "      <td>...</td>\n",
       "      <td>...</td>\n",
       "      <td>...</td>\n",
       "      <td>...</td>\n",
       "      <td>...</td>\n",
       "      <td>...</td>\n",
       "      <td>...</td>\n",
       "      <td>...</td>\n",
       "      <td>...</td>\n",
       "      <td>...</td>\n",
       "      <td>...</td>\n",
       "      <td>...</td>\n",
       "      <td>...</td>\n",
       "      <td>...</td>\n",
       "    </tr>\n",
       "    <tr>\n",
       "      <th>113</th>\n",
       "      <td>114</td>\n",
       "      <td>Fl</td>\n",
       "      <td>Flerovium</td>\n",
       "      <td>Joint Institute for Nuclear Research, part of ...</td>\n",
       "      <td>14</td>\n",
       "      <td>7</td>\n",
       "      <td>p-block</td>\n",
       "      <td>289.0000</td>\n",
       "      <td>11.400000</td>\n",
       "      <td>284.00</td>\n",
       "      <td>NaN</td>\n",
       "      <td>NaN</td>\n",
       "      <td>NaN</td>\n",
       "      <td>NaN</td>\n",
       "      <td>synthetic</td>\n",
       "      <td>unknown phase</td>\n",
       "    </tr>\n",
       "    <tr>\n",
       "      <th>114</th>\n",
       "      <td>115</td>\n",
       "      <td>Mc</td>\n",
       "      <td>Moscovium</td>\n",
       "      <td>Moscow, Russia, where the element was first sy...</td>\n",
       "      <td>15</td>\n",
       "      <td>7</td>\n",
       "      <td>p-block</td>\n",
       "      <td>290.0000</td>\n",
       "      <td>13.500000</td>\n",
       "      <td>700.00</td>\n",
       "      <td>1400.00</td>\n",
       "      <td>NaN</td>\n",
       "      <td>NaN</td>\n",
       "      <td>NaN</td>\n",
       "      <td>synthetic</td>\n",
       "      <td>unknown phase</td>\n",
       "    </tr>\n",
       "    <tr>\n",
       "      <th>115</th>\n",
       "      <td>116</td>\n",
       "      <td>Lv</td>\n",
       "      <td>Livermorium</td>\n",
       "      <td>Lawrence Livermore National Laboratory in Live...</td>\n",
       "      <td>16</td>\n",
       "      <td>7</td>\n",
       "      <td>p-block</td>\n",
       "      <td>293.0000</td>\n",
       "      <td>12.900000</td>\n",
       "      <td>700.00</td>\n",
       "      <td>1100.00</td>\n",
       "      <td>NaN</td>\n",
       "      <td>NaN</td>\n",
       "      <td>NaN</td>\n",
       "      <td>synthetic</td>\n",
       "      <td>unknown phase</td>\n",
       "    </tr>\n",
       "    <tr>\n",
       "      <th>116</th>\n",
       "      <td>117</td>\n",
       "      <td>Ts</td>\n",
       "      <td>Tennessine</td>\n",
       "      <td>Tennessee, United States, where Oak Ridge Nati...</td>\n",
       "      <td>17</td>\n",
       "      <td>7</td>\n",
       "      <td>p-block</td>\n",
       "      <td>294.0000</td>\n",
       "      <td>7.130000</td>\n",
       "      <td>700.00</td>\n",
       "      <td>883.00</td>\n",
       "      <td>NaN</td>\n",
       "      <td>NaN</td>\n",
       "      <td>NaN</td>\n",
       "      <td>synthetic</td>\n",
       "      <td>unknown phase</td>\n",
       "    </tr>\n",
       "    <tr>\n",
       "      <th>117</th>\n",
       "      <td>118</td>\n",
       "      <td>Og</td>\n",
       "      <td>Oganesson</td>\n",
       "      <td>Yuri Oganessian, Russian physicist</td>\n",
       "      <td>18</td>\n",
       "      <td>7</td>\n",
       "      <td>p-block</td>\n",
       "      <td>294.0000</td>\n",
       "      <td>7.000000</td>\n",
       "      <td>325.00</td>\n",
       "      <td>450.00</td>\n",
       "      <td>NaN</td>\n",
       "      <td>NaN</td>\n",
       "      <td>NaN</td>\n",
       "      <td>synthetic</td>\n",
       "      <td>unknown phase</td>\n",
       "    </tr>\n",
       "  </tbody>\n",
       "</table>\n",
       "<p>118 rows × 16 columns</p>\n",
       "</div>"
      ],
      "text/plain": [
       "     atomsko_st simbol          ime  \\\n",
       "0             1      H     Hydrogen   \n",
       "1             2     He       Helium   \n",
       "2             3     Li      Lithium   \n",
       "3             4     Be    Beryllium   \n",
       "4             5      B        Boron   \n",
       "..          ...    ...          ...   \n",
       "113         114     Fl    Flerovium   \n",
       "114         115     Mc    Moscovium   \n",
       "115         116     Lv  Livermorium   \n",
       "116         117     Ts   Tennessine   \n",
       "117         118     Og    Oganesson   \n",
       "\n",
       "                                           izvor_imena skupina  perioda  \\\n",
       "0      Greek elements hydro- and -gen, 'water-forming'       1        1   \n",
       "1                                  Greek hḗlios, 'sun'      18        1   \n",
       "2                                Greek líthos, 'stone'       1        2   \n",
       "3    Beryl, a mineral (ultimately from the name of ...       2        2   \n",
       "4    Borax, a mineral (from Arabic bawraq, Middle P...      13        2   \n",
       "..                                                 ...     ...      ...   \n",
       "113  Joint Institute for Nuclear Research, part of ...      14        7   \n",
       "114  Moscow, Russia, where the element was first sy...      15        7   \n",
       "115  Lawrence Livermore National Laboratory in Live...      16        7   \n",
       "116  Tennessee, United States, where Oak Ridge Nati...      17        7   \n",
       "117                 Yuri Oganessian, Russian physicist      18        7   \n",
       "\n",
       "        blok  rel_at_masa    gostota  talisce  vrelisce  spec_toplota  el_neg  \\\n",
       "0    s-block       1.0080   0.000090    14.01     20.28        14.304    2.20   \n",
       "1    s-block       4.0026   0.000179      NaN      4.22         5.193     NaN   \n",
       "2    s-block       6.9400   0.534000   453.69   1560.00         3.582    0.98   \n",
       "3    s-block       9.0122   1.850000  1560.00   2742.00         1.825    1.57   \n",
       "4    p-block      10.8100   2.340000  2349.00   4200.00         1.026    2.04   \n",
       "..       ...          ...        ...      ...       ...           ...     ...   \n",
       "113  p-block     289.0000  11.400000   284.00       NaN           NaN     NaN   \n",
       "114  p-block     290.0000  13.500000   700.00   1400.00           NaN     NaN   \n",
       "115  p-block     293.0000  12.900000   700.00   1100.00           NaN     NaN   \n",
       "116  p-block     294.0000   7.130000   700.00    883.00           NaN     NaN   \n",
       "117  p-block     294.0000   7.000000   325.00    450.00           NaN     NaN   \n",
       "\n",
       "    pogostost_v_zem_skorji       izvor       argegato  \n",
       "0                     1400  primordial            gas  \n",
       "1                    0.008  primordial            gas  \n",
       "2                       20  primordial          solid  \n",
       "3                      2.8  primordial          solid  \n",
       "4                       10  primordial          solid  \n",
       "..                     ...         ...            ...  \n",
       "113                    NaN   synthetic  unknown phase  \n",
       "114                    NaN   synthetic  unknown phase  \n",
       "115                    NaN   synthetic  unknown phase  \n",
       "116                    NaN   synthetic  unknown phase  \n",
       "117                    NaN   synthetic  unknown phase  \n",
       "\n",
       "[118 rows x 16 columns]"
      ]
     },
     "execution_count": 35,
     "metadata": {},
     "output_type": "execute_result"
    }
   ],
   "source": [
    "import pandas as pd\n",
    "import os\n",
    "import numpy as nd\n",
    "import matplotlib.pyplot as plt\n",
    "\n",
    "pd.options.display.max_rows = 20\n",
    "\n",
    "glava = ['atomsko_st', 'simbol', 'ime', 'izvor_imena', 'skupina', 'perioda', 'blok', 'rel_at_masa', 'gostota', 'talisce', 'vrelisce', 'spec_toplota', 'el_neg', 'pogostost_v_zem_skorji', 'izvor', 'argegato']\n",
    "data = pd.read_csv('elementi.csv')\n",
    "data"
   ]
  },
  {
   "cell_type": "markdown",
   "metadata": {},
   "source": [
    "## 1. Povprečne, minimalne in maksimalne vrednosti"
   ]
  },
  {
   "cell_type": "code",
   "execution_count": 47,
   "metadata": {},
   "outputs": [
    {
     "name": "stdout",
     "output_type": "stream",
     "text": [
      "       rel_at_masa     gostota      talisce     vrelisce  spec_toplota  \\\n",
      "count   118.000000  118.000000   110.000000   106.000000     86.000000   \n",
      "mean    146.488371    9.112281  1243.016587  2457.745094      0.629674   \n",
      "std      89.686261    6.873986   884.094426  1605.182567      1.645245   \n",
      "min       1.008000    0.000090    14.010000     4.220000      0.094000   \n",
      "25%      66.465750    3.750500   510.560000  1055.000000      0.165750   \n",
      "50%     142.575000    8.065000  1120.000000  2554.000000      0.243500   \n",
      "75%     226.750000   12.440000  1801.250000  3556.500000      0.486500   \n",
      "max     294.000000   27.000000  4000.000000  5869.000000     14.304000   \n",
      "\n",
      "          el_neg  \n",
      "count  99.000000  \n",
      "mean    1.717677  \n",
      "std     0.624679  \n",
      "min     0.790000  \n",
      "25%     1.245000  \n",
      "50%     1.610000  \n",
      "75%     2.130000  \n",
      "max     3.980000  \n"
     ]
    }
   ],
   "source": [
    "pocisceno = data[data[glava].notnull()]\n",
    "print(pocisceno[glava[7:]].describe())"
   ]
  },
  {
   "cell_type": "markdown",
   "metadata": {},
   "source": [
    "## 2. Analiza po periodah in skupinah"
   ]
  },
  {
   "cell_type": "code",
   "execution_count": 62,
   "metadata": {},
   "outputs": [
    {
     "data": {
      "text/plain": [
       "perioda\n",
       "1     0.000134\n",
       "2     0.874534\n",
       "3     1.454123\n",
       "4     5.392197\n",
       "5     7.415994\n",
       "6    10.673820\n",
       "7    15.140937\n",
       "Name: gostota, dtype: float64"
      ]
     },
     "execution_count": 62,
     "metadata": {},
     "output_type": "execute_result"
    }
   ],
   "source": [
    "data_period = data.groupby('perioda')\n",
    "\n",
    "data_period.gostota.mean()"
   ]
  },
  {
   "cell_type": "markdown",
   "metadata": {},
   "source": []
  },
  {
   "cell_type": "code",
   "execution_count": 63,
   "metadata": {},
   "outputs": [
    {
     "data": {
      "text/plain": [
       "<Axes: xlabel='gostota', ylabel='perioda'>"
      ]
     },
     "execution_count": 63,
     "metadata": {},
     "output_type": "execute_result"
    },
    {
     "data": {
      "image/png": "[encoded data removed]",
      "text/plain": [
       "<Figure size 640x480 with 1 Axes>"
      ]
     },
     "metadata": {},
     "output_type": "display_data"
    }
   ],
   "source": [
    "data.plot.scatter('gostota','perioda')"
   ]
  },
  {
   "cell_type": "markdown",
   "metadata": {},
   "source": []
  },
  {
   "cell_type": "code",
   "execution_count": 73,
   "metadata": {},
   "outputs": [
    {
     "data": {
      "text/plain": [
       "skupina\n",
       "1                  1.190584\n",
       "10                17.095250\n",
       "11                15.187500\n",
       "12                10.831000\n",
       "13                 7.685000\n",
       "14                 6.654000\n",
       "15                 6.254708\n",
       "16                 5.869572\n",
       "17                 4.015033\n",
       "18                 1.003177\n",
       "2                  2.798000\n",
       "3                  7.924500\n",
       "4                 10.334000\n",
       "5                 13.242500\n",
       "6                 14.920000\n",
       "7                 16.307500\n",
       "8                 17.478500\n",
       "9                 17.717500\n",
       "f-block groups    10.574357\n",
       "Name: gostota, dtype: float64"
      ]
     },
     "execution_count": 73,
     "metadata": {},
     "output_type": "execute_result"
    }
   ],
   "source": [
    "srt_data = data.sort_values('skupina')\n",
    "data_skupina = srt_data.groupby('skupina')\n",
    "data_skupina.gostota.mean()"
   ]
  },
  {
   "cell_type": "markdown",
   "metadata": {},
   "source": []
  },
  {
   "cell_type": "code",
   "execution_count": 74,
   "metadata": {},
   "outputs": [
    {
     "data": {
      "text/plain": [
       "<Axes: xlabel='gostota', ylabel='skupina'>"
      ]
     },
     "execution_count": 74,
     "metadata": {},
     "output_type": "execute_result"
    },
    {
     "data": {
      "image/png": "[encoded data removed]",
      "text/plain": [
       "<Figure size 640x480 with 1 Axes>"
      ]
     },
     "metadata": {},
     "output_type": "display_data"
    }
   ],
   "source": [
    "data.plot.scatter('gostota', 'skupina')"
   ]
  }
 ],
 "metadata": {
  "kernelspec": {
   "display_name": "Python 3",
   "language": "python",
   "name": "python3"
  },
  "language_info": {
   "codemirror_mode": {
    "name": "ipython",
    "version": 3
   },
   "file_extension": ".py",
   "mimetype": "text/x-python",
   "name": "python",
   "nbconvert_exporter": "python",
   "pygments_lexer": "ipython3",
   "version": "3.11.5"
  }
 },
 "nbformat": 4,
 "nbformat_minor": 2
}
