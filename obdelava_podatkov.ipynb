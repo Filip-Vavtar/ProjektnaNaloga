{
 "cells": [
  {
   "cell_type": "markdown",
   "metadata": {},
   "source": [
    "# Obdelava podatkov"
   ]
  },
  {
   "cell_type": "code",
   "execution_count": 25,
   "metadata": {},
   "outputs": [],
   "source": [
    "import re\n",
    "from bs4 import BeautifulSoup\n",
    "import requests\n",
    "import os\n",
    "import csv"
   ]
  },
  {
   "cell_type": "markdown",
   "metadata": {},
   "source": [
    "## 1. Pridobivanje podatkov\n",
    "Prvo definiramo spremenljivke:"
   ]
  },
  {
   "cell_type": "code",
   "execution_count": 26,
   "metadata": {},
   "outputs": [],
   "source": [
    "podatki_url = 'https://en.wikipedia.org/wiki/List_of_chemical_elements'\n",
    "\n",
    "directory_dat = 'Surovi podatki'\n",
    "\n",
    "datoteka_html = 'podatki.html'\n"
   ]
  },
  {
   "cell_type": "markdown",
   "metadata": {},
   "source": [
    "Potem napišemo funkcijo, ki podatke dobi iz spleta:"
   ]
  },
  {
   "cell_type": "code",
   "execution_count": 27,
   "metadata": {},
   "outputs": [],
   "source": [
    "def nalozi_iz_spleta(url):\n",
    "    \n",
    "    try:\n",
    "        response = requests.get(url)\n",
    "        if response.status_code == 200:\n",
    "            return response.text\n",
    "        else:\n",
    "            raise ValueError(f'Prišlo je do čudne kode: {response.status_code}')\n",
    "    except Exception:\n",
    "        print(f'Prišlo je do napake pri nalaganju strani {url}')"
   ]
  },
  {
   "cell_type": "markdown",
   "metadata": {},
   "source": [
    "potem napisemo funkcijo, ki bo te podatke shranila v file:"
   ]
  },
  {
   "cell_type": "code",
   "execution_count": 28,
   "metadata": {},
   "outputs": [],
   "source": [
    "def shrani_v_datoteko(text, directory, filename):\n",
    "    if directory != '':\n",
    "        os.makedirs(directory, exist_ok=True)\n",
    "    path = os.path.join(directory, filename)\n",
    "    with open(path, 'w', encoding='utf-8') as file_out:\n",
    "        file_out.write(text)\n",
    "    return None"
   ]
  },
  {
   "cell_type": "markdown",
   "metadata": {},
   "source": [
    "in še funkcije, ki združi prejšnji funkciji:"
   ]
  },
  {
   "cell_type": "code",
   "execution_count": 29,
   "metadata": {},
   "outputs": [],
   "source": [
    "def shrani(page, directory, filename):\n",
    "    vsebina = nalozi_iz_spleta(page)\n",
    "    if vsebina != None:\n",
    "        shrani_v_datoteko(vsebina, directory, filename) "
   ]
  },
  {
   "cell_type": "code",
   "execution_count": 30,
   "metadata": {},
   "outputs": [
    {
     "name": "stdout",
     "output_type": "stream",
     "text": [
      "Prišlo je do napake pri nalaganju strani https://en.wikipedia.org/wiki/List_of_chemical_elements\n"
     ]
    }
   ],
   "source": [
    "shrani(podatki_url, directory_dat, datoteka_html)"
   ]
  },
  {
   "cell_type": "markdown",
   "metadata": {},
   "source": [
    "## 2. Izluščenje podatkov"
   ]
  },
  {
   "cell_type": "code",
   "execution_count": 32,
   "metadata": {},
   "outputs": [],
   "source": [
    "def luscenje(dat):\n",
    "    juha = BeautifulSoup(datoteka_html, 'html.parser')\n",
    "    tabela = juha.find('table', class_='wikitable sortable')\n",
    "    vrstice = tabela.find_all('tr')\n",
    "    for vr in vrstice[1:]:\n",
    "        celice = vr.find_all('td')\n",
    "        at_st = celice[0].get_text()\n",
    "        sy = celice[1].get_text()\n",
    "        name = celice[2].get_text()\n",
    "        org = celice[3].get_text()\n",
    "        group = celice[4].get_text()\n",
    "        period = celice[5].get_text()\n",
    "        block = celice[6].get_text()\n",
    "        saw = celice[7].get_text()\n",
    "        dens = celice[8].get_text()\n",
    "        mlt_p = celice[9].get_text()\n",
    "        boil_p = celice[10].get_text()\n",
    "        shc = celice[11].get_text()\n",
    "        el_neg = celice[12].get_text()\n",
    "        abound = celice[13].get_text()\n",
    "        orig = celice[14].get_text()\n",
    "        phase = celice[15].get_text()\n",
    "        print(saw, el_neg, orig)    "
   ]
  },
  {
   "cell_type": "code",
   "execution_count": null,
   "metadata": {},
   "outputs": [],
   "source": [
    "print()"
   ]
  }
 ],
 "metadata": {
  "kernelspec": {
   "display_name": "Python 3",
   "language": "python",
   "name": "python3"
  },
  "language_info": {
   "codemirror_mode": {
    "name": "ipython",
    "version": 3
   },
   "file_extension": ".py",
   "mimetype": "text/x-python",
   "name": "python",
   "nbconvert_exporter": "python",
   "pygments_lexer": "ipython3",
   "version": "3.11.5"
  },
  "orig_nbformat": 4
 },
 "nbformat": 4,
 "nbformat_minor": 2
}
