{
 "cells": [
  {
   "cell_type": "markdown",
   "metadata": {},
   "source": [
    "# Obdelava podatkov"
   ]
  },
  {
   "cell_type": "code",
   "execution_count": 20,
   "metadata": {},
   "outputs": [],
   "source": [
    "import re\n",
    "import requests\n",
    "import os\n",
    "import csv"
   ]
  },
  {
   "cell_type": "markdown",
   "metadata": {},
   "source": [
    "## 1. Pridobivanje podatkov\n",
    "Prvo definiramo spremenljivke:"
   ]
  },
  {
   "cell_type": "code",
   "execution_count": 21,
   "metadata": {},
   "outputs": [],
   "source": [
    "podatki_url = 'https://en.wikipedia.org/wiki/List_of_chemical_elements'\n",
    "\n",
    "directory_dat = 'Surovi podatki'\n",
    "\n",
    "datoteka_html = 'podatki.html'\n",
    "\n",
    "elementi = 'elementi.csv'\n"
   ]
  },
  {
   "cell_type": "markdown",
   "metadata": {},
   "source": [
    "Potem napišemo funkcijo, ki podatke dobi iz spleta:"
   ]
  },
  {
   "cell_type": "code",
   "execution_count": 22,
   "metadata": {},
   "outputs": [],
   "source": [
    "def nalozi_iz_spleta(url):\n",
    "    \n",
    "    try:\n",
    "        response = requests.get(url)\n",
    "        if response.status_code == 200:\n",
    "            return response.text\n",
    "        else:\n",
    "            raise ValueError(f'Prišlo je do čudne kode: {response.status_code}')\n",
    "    except Exception:\n",
    "        print(f'Prišlo je do napake pri nalaganju strani {url}')"
   ]
  },
  {
   "cell_type": "markdown",
   "metadata": {},
   "source": [
    "potem napisemo funkcijo, ki bo te podatke shranila v file:"
   ]
  },
  {
   "cell_type": "code",
   "execution_count": 23,
   "metadata": {},
   "outputs": [],
   "source": [
    "def shrani_v_datoteko(text, directory, file):\n",
    "    os.makedirs(directory, exist_ok=True)\n",
    "    path = os.path.join(directory, file)\n",
    "    with open(path, 'w', encoding='utf-8') as f:\n",
    "        f.write(text)\n",
    "    return None"
   ]
  },
  {
   "cell_type": "markdown",
   "metadata": {},
   "source": [
    "in še funkcije, ki združi prejšnji funkciji:"
   ]
  },
  {
   "cell_type": "code",
   "execution_count": 24,
   "metadata": {},
   "outputs": [],
   "source": [
    "def shrani(page, directory, file):\n",
    "    vsebina = nalozi_iz_spleta(page)\n",
    "    if vsebina != None:\n",
    "        shrani_v_datoteko(vsebina, directory, file) "
   ]
  },
  {
   "cell_type": "markdown",
   "metadata": {},
   "source": [
    "Potem poženemo funkcijo, ki nam iz spletne strani shrani html kodo v datoteko na računalniku."
   ]
  },
  {
   "cell_type": "code",
   "execution_count": 25,
   "metadata": {},
   "outputs": [],
   "source": [
    "shrani(podatki_url, directory_dat, datoteka_html)"
   ]
  },
  {
   "cell_type": "markdown",
   "metadata": {},
   "source": [
    "## 2. Izluščenje podatkov"
   ]
  },
  {
   "cell_type": "markdown",
   "metadata": {},
   "source": [
    "Napišemo funkcijo, ki bo prebrala datoteko."
   ]
  },
  {
   "cell_type": "code",
   "execution_count": 26,
   "metadata": {},
   "outputs": [],
   "source": [
    "def preberi_datoteko(dir, dat):\n",
    "    pat = os.path.join(dir, dat)\n",
    "    with open(pat, 'r', encoding = 'utf-8') as f:\n",
    "        return f.read()"
   ]
  },
  {
   "cell_type": "markdown",
   "metadata": {},
   "source": [
    "Potem napišemo funkcijo, ki nam bo iz tega izluščila zaželjene elemente."
   ]
  },
  {
   "cell_type": "code",
   "execution_count": 27,
   "metadata": {},
   "outputs": [],
   "source": [
    "def luscenje(dir, dat):\n",
    "    #najprej iz html kode izoliramo tabelo\n",
    "    surovo = preberi_datoteko(dir, dat)\n",
    "    zac_tab = surovo.index(r'<table')\n",
    "    kon_tab = surovo.index(r'</table')\n",
    "    tabela = surovo[zac_tab : kon_tab]\n",
    "    vrstice = re.split('<tr', tabela) #naredimo seznam vrstic\n",
    "    vrne = []\n",
    "    for vrstica in vrstice[5:]:     #spustimo glavo\n",
    "        celice = re.split(r'<td.*?>', vrstica, flags=re.DOTALL)     #ločimo vrstico na celice\n",
    "        vsebina_vr = []\n",
    "        for x in celice[1:]:\n",
    "            izl_celica = re.sub(r'<.*?>', '', x)\n",
    "            izl_celica = re.sub(r'\\n*', '', izl_celica)\n",
    "            izl_celica = re.sub(r'&#.*;', '', izl_celica) # pri nekaterih mankajocih podathih je izluscilo to kodo namesto –\n",
    "            izl_celica = re.sub('–', '', izl_celica)\n",
    "            vsebina_vr.append(izl_celica)\n",
    "        vrne.append({\n",
    "            'atomsko_st' : vsebina_vr[0],\n",
    "            'simbol' : vsebina_vr[1],\n",
    "            'ime' : vsebina_vr[2],\n",
    "            'izvor_imena' : vsebina_vr[3],\n",
    "            'skupina' : vsebina_vr[4],\n",
    "            'perioda' : vsebina_vr[5],\n",
    "            'blok' : vsebina_vr[6],\n",
    "            'rel_at_masa' : vsebina_vr[7],\n",
    "            'gostota' : vsebina_vr[8],\n",
    "            'talisce' : vsebina_vr[9],\n",
    "            'vrelisce' : vsebina_vr[10],\n",
    "            'spec_toplota' : vsebina_vr[11],\n",
    "            'el_neg' : vsebina_vr[12],\n",
    "            'pogostost_v_zem_skorji' : vsebina_vr[13],\n",
    "            'izvor' : vsebina_vr[14],\n",
    "            'argegato' : vsebina_vr[15]\n",
    "            })\n",
    "    return vrne\n"
   ]
  },
  {
   "cell_type": "markdown",
   "metadata": {},
   "source": [
    "In preverimo, če deluje."
   ]
  },
  {
   "cell_type": "code",
   "execution_count": 28,
   "metadata": {},
   "outputs": [
    {
     "name": "stdout",
     "output_type": "stream",
     "text": [
      "[{'atomsko_st': '1', 'simbol': 'H', 'ime': 'Hydrogen', 'izvor_imena': \"Greek elements hydro- and -gen, 'water-forming'\", 'skupina': '1', 'perioda': '1', 'blok': 's-block', 'rel_at_masa': '1.0080', 'gostota': '0.00008988', 'talisce': '14.01', 'vrelisce': '20.28', 'spec_toplota': '14.304', 'el_neg': '2.20', 'pogostost_v_zem_skorji': '1400', 'izvor': 'primordial', 'argegato': 'gas'}, {'atomsko_st': '2', 'simbol': 'He', 'ime': 'Helium', 'izvor_imena': \"Greek hḗlios, 'sun'\", 'skupina': '18', 'perioda': '1', 'blok': 's-block', 'rel_at_masa': '4.0026', 'gostota': '0.0001785', 'talisce': '', 'vrelisce': '4.22', 'spec_toplota': '5.193', 'el_neg': '', 'pogostost_v_zem_skorji': '0.008', 'izvor': 'primordial', 'argegato': 'gas'}, {'atomsko_st': '3', 'simbol': 'Li', 'ime': 'Lithium', 'izvor_imena': \"Greek líthos, 'stone'\", 'skupina': '1', 'perioda': '2', 'blok': 's-block', 'rel_at_masa': '6.94', 'gostota': '0.534', 'talisce': '453.69', 'vrelisce': '1560', 'spec_toplota': '3.582', 'el_neg': '0.98', 'pogostost_v_zem_skorji': '20', 'izvor': 'primordial', 'argegato': 'solid'}, {'atomsko_st': '4', 'simbol': 'Be', 'ime': 'Beryllium', 'izvor_imena': 'Beryl, a mineral (ultimately from the name of Belur in southern India)', 'skupina': '2', 'perioda': '2', 'blok': 's-block', 'rel_at_masa': '9.0122', 'gostota': '1.85', 'talisce': '1560', 'vrelisce': '2742', 'spec_toplota': '1.825', 'el_neg': '1.57', 'pogostost_v_zem_skorji': '2.8', 'izvor': 'primordial', 'argegato': 'solid'}, {'atomsko_st': '5', 'simbol': 'B', 'ime': 'Boron', 'izvor_imena': 'Borax, a mineral (from Arabic bawraq, Middle Persian *bōrag)', 'skupina': '13', 'perioda': '2', 'blok': 'p-block', 'rel_at_masa': '10.81', 'gostota': '2.34', 'talisce': '2349', 'vrelisce': '4200', 'spec_toplota': '1.026', 'el_neg': '2.04', 'pogostost_v_zem_skorji': '10', 'izvor': 'primordial', 'argegato': 'solid'}, {'atomsko_st': '6', 'simbol': 'C', 'ime': 'Carbon', 'izvor_imena': \"Latin carbo, 'coal'\", 'skupina': '14', 'perioda': '2', 'blok': 'p-block', 'rel_at_masa': '12.011', 'gostota': '2.267', 'talisce': '&gt;4000', 'vrelisce': '4300', 'spec_toplota': '0.709', 'el_neg': '2.55', 'pogostost_v_zem_skorji': '200', 'izvor': 'primordial', 'argegato': 'solid'}, {'atomsko_st': '7', 'simbol': 'N', 'ime': 'Nitrogen', 'izvor_imena': \"Greek nítron and -gen, 'niter-forming'\", 'skupina': '15', 'perioda': '2', 'blok': 'p-block', 'rel_at_masa': '14.007', 'gostota': '0.0012506', 'talisce': '63.15', 'vrelisce': '77.36', 'spec_toplota': '1.04', 'el_neg': '3.04', 'pogostost_v_zem_skorji': '19', 'izvor': 'primordial', 'argegato': 'gas'}, {'atomsko_st': '8', 'simbol': 'O', 'ime': 'Oxygen', 'izvor_imena': \"Greek oxy- and -gen, 'acid-forming'\", 'skupina': '16', 'perioda': '2', 'blok': 'p-block', 'rel_at_masa': '15.999', 'gostota': '0.001429', 'talisce': '54.36', 'vrelisce': '90.20', 'spec_toplota': '0.918', 'el_neg': '3.44', 'pogostost_v_zem_skorji': '461000', 'izvor': 'primordial', 'argegato': 'gas'}, {'atomsko_st': '9', 'simbol': 'F', 'ime': 'Fluorine', 'izvor_imena': \"Latin fluere, 'to flow'\", 'skupina': '17', 'perioda': '2', 'blok': 'p-block', 'rel_at_masa': '18.998', 'gostota': '0.001696', 'talisce': '53.53', 'vrelisce': '85.03', 'spec_toplota': '0.824', 'el_neg': '3.98', 'pogostost_v_zem_skorji': '585', 'izvor': 'primordial', 'argegato': 'gas'}, {'atomsko_st': '10', 'simbol': 'Ne', 'ime': 'Neon', 'izvor_imena': \"Greek néon, 'new'\", 'skupina': '18', 'perioda': '2', 'blok': 'p-block', 'rel_at_masa': '20.180', 'gostota': '0.0009002', 'talisce': '24.56', 'vrelisce': '27.07', 'spec_toplota': '1.03', 'el_neg': '', 'pogostost_v_zem_skorji': '0.005', 'izvor': 'primordial', 'argegato': 'gas'}, {'atomsko_st': '11', 'simbol': 'Na', 'ime': 'Sodium', 'izvor_imena': \"English (from medieval Latin) sodaSymbol Na is derived from Neo-Latin natrium, coined from German Natron, 'natron'\", 'skupina': '1', 'perioda': '3', 'blok': 's-block', 'rel_at_masa': '22.990', 'gostota': '0.968', 'talisce': '370.87', 'vrelisce': '1156', 'spec_toplota': '1.228', 'el_neg': '0.93', 'pogostost_v_zem_skorji': '23600', 'izvor': 'primordial', 'argegato': 'solid'}, {'atomsko_st': '12', 'simbol': 'Mg', 'ime': 'Magnesium', 'izvor_imena': 'Magnesia, a district of Eastern Thessaly in Greece', 'skupina': '2', 'perioda': '3', 'blok': 's-block', 'rel_at_masa': '24.305', 'gostota': '1.738', 'talisce': '923', 'vrelisce': '1363', 'spec_toplota': '1.023', 'el_neg': '1.31', 'pogostost_v_zem_skorji': '23300', 'izvor': 'primordial', 'argegato': 'solid'}, {'atomsko_st': '13', 'simbol': 'Al', 'ime': 'Aluminium', 'izvor_imena': \"Alumina, from Latin alumen (gen. aluminis), 'bitter salt, alum'\", 'skupina': '13', 'perioda': '3', 'blok': 'p-block', 'rel_at_masa': '26.982', 'gostota': '2.70', 'talisce': '933.47', 'vrelisce': '2792', 'spec_toplota': '0.897', 'el_neg': '1.61', 'pogostost_v_zem_skorji': '82300', 'izvor': 'primordial', 'argegato': 'solid'}, {'atomsko_st': '14', 'simbol': 'Si', 'ime': 'Silicon', 'izvor_imena': \"Latin silex, 'flint' (originally silicium)\", 'skupina': '14', 'perioda': '3', 'blok': 'p-block', 'rel_at_masa': '28.085', 'gostota': '2.3290', 'talisce': '1687', 'vrelisce': '3538', 'spec_toplota': '0.705', 'el_neg': '1.9', 'pogostost_v_zem_skorji': '282000', 'izvor': 'primordial', 'argegato': 'solid'}, {'atomsko_st': '15', 'simbol': 'P', 'ime': 'Phosphorus', 'izvor_imena': \"Greek phōsphóros, 'light-bearing'\", 'skupina': '15', 'perioda': '3', 'blok': 'p-block', 'rel_at_masa': '30.974', 'gostota': '1.823', 'talisce': '317.30', 'vrelisce': '550', 'spec_toplota': '0.769', 'el_neg': '2.19', 'pogostost_v_zem_skorji': '1050', 'izvor': 'primordial', 'argegato': 'solid'}, {'atomsko_st': '16', 'simbol': 'S', 'ime': 'Sulfur', 'izvor_imena': \"Latin sulphur, 'brimstone'\", 'skupina': '16', 'perioda': '3', 'blok': 'p-block', 'rel_at_masa': '32.06', 'gostota': '2.07', 'talisce': '388.36', 'vrelisce': '717.87', 'spec_toplota': '0.71', 'el_neg': '2.58', 'pogostost_v_zem_skorji': '350', 'izvor': 'primordial', 'argegato': 'solid'}, {'atomsko_st': '17', 'simbol': 'Cl', 'ime': 'Chlorine', 'izvor_imena': \"Greek chlōrós, 'greenish yellow'\", 'skupina': '17', 'perioda': '3', 'blok': 'p-block', 'rel_at_masa': '35.45', 'gostota': '0.0032', 'talisce': '171.6', 'vrelisce': '239.11', 'spec_toplota': '0.479', 'el_neg': '3.16', 'pogostost_v_zem_skorji': '145', 'izvor': 'primordial', 'argegato': 'gas'}, {'atomsko_st': '18', 'simbol': 'Ar', 'ime': 'Argon', 'izvor_imena': \"Greek argós, 'idle' (because of its inertness)\", 'skupina': '18', 'perioda': '3', 'blok': 'p-block', 'rel_at_masa': '39.95', 'gostota': '0.001784', 'talisce': '83.80', 'vrelisce': '87.30', 'spec_toplota': '0.52', 'el_neg': '', 'pogostost_v_zem_skorji': '3.5', 'izvor': 'primordial', 'argegato': 'gas'}, {'atomsko_st': '19', 'simbol': 'K', 'ime': 'Potassium', 'izvor_imena': \"Neo-Latin potassa, 'potash', itself from pot and ashSymbol K is derived from Latin kalium\", 'skupina': '1', 'perioda': '4', 'blok': 's-block', 'rel_at_masa': '39.098', 'gostota': '0.89', 'talisce': '336.53', 'vrelisce': '1032', 'spec_toplota': '0.757', 'el_neg': '0.82', 'pogostost_v_zem_skorji': '20900', 'izvor': 'primordial', 'argegato': 'solid'}, {'atomsko_st': '20', 'simbol': 'Ca', 'ime': 'Calcium', 'izvor_imena': \"Latin calx, 'lime'\", 'skupina': '2', 'perioda': '4', 'blok': 's-block', 'rel_at_masa': '40.078', 'gostota': '1.55', 'talisce': '1115', 'vrelisce': '1757', 'spec_toplota': '0.647', 'el_neg': '1.00', 'pogostost_v_zem_skorji': '41500', 'izvor': 'primordial', 'argegato': 'solid'}, {'atomsko_st': '21', 'simbol': 'Sc', 'ime': 'Scandium', 'izvor_imena': \"Latin Scandia, 'Scandinavia'\", 'skupina': '3', 'perioda': '4', 'blok': 'd-block', 'rel_at_masa': '44.956', 'gostota': '2.985', 'talisce': '1814', 'vrelisce': '3109', 'spec_toplota': '0.568', 'el_neg': '1.36', 'pogostost_v_zem_skorji': '22', 'izvor': 'primordial', 'argegato': 'solid'}, {'atomsko_st': '22', 'simbol': 'Ti', 'ime': 'Titanium', 'izvor_imena': 'Titans, the sons of the Earth goddess of Greek mythology', 'skupina': '4', 'perioda': '4', 'blok': 'd-block', 'rel_at_masa': '47.867', 'gostota': '4.506', 'talisce': '1941', 'vrelisce': '3560', 'spec_toplota': '0.523', 'el_neg': '1.54', 'pogostost_v_zem_skorji': '5650', 'izvor': 'primordial', 'argegato': 'solid'}, {'atomsko_st': '23', 'simbol': 'V', 'ime': 'Vanadium', 'izvor_imena': 'Vanadis, an Old Norse name for the Scandinavian goddess Freyja', 'skupina': '5', 'perioda': '4', 'blok': 'd-block', 'rel_at_masa': '50.942', 'gostota': '6.11', 'talisce': '2183', 'vrelisce': '3680', 'spec_toplota': '0.489', 'el_neg': '1.63', 'pogostost_v_zem_skorji': '120', 'izvor': 'primordial', 'argegato': 'solid'}, {'atomsko_st': '24', 'simbol': 'Cr', 'ime': 'Chromium', 'izvor_imena': \"Greek chróma, 'colour'\", 'skupina': '6', 'perioda': '4', 'blok': 'd-block', 'rel_at_masa': '51.996', 'gostota': '7.15', 'talisce': '2180', 'vrelisce': '2944', 'spec_toplota': '0.449', 'el_neg': '1.66', 'pogostost_v_zem_skorji': '102', 'izvor': 'primordial', 'argegato': 'solid'}, {'atomsko_st': '25', 'simbol': 'Mn', 'ime': 'Manganese', 'izvor_imena': 'Corrupted from magnesia negra; see §magnesium', 'skupina': '7', 'perioda': '4', 'blok': 'd-block', 'rel_at_masa': '54.938', 'gostota': '7.21', 'talisce': '1519', 'vrelisce': '2334', 'spec_toplota': '0.479', 'el_neg': '1.55', 'pogostost_v_zem_skorji': '950', 'izvor': 'primordial', 'argegato': 'solid'}, {'atomsko_st': '26', 'simbol': 'Fe', 'ime': 'Iron', 'izvor_imena': \"English word, from Proto-Celtic *īsarnom ('iron'), from a root meaning 'blood'Symbol Fe is derived from Latin ferrum\", 'skupina': '8', 'perioda': '4', 'blok': 'd-block', 'rel_at_masa': '55.845', 'gostota': '7.874', 'talisce': '1811', 'vrelisce': '3134', 'spec_toplota': '0.449', 'el_neg': '1.83', 'pogostost_v_zem_skorji': '56300', 'izvor': 'primordial', 'argegato': 'solid'}, {'atomsko_st': '27', 'simbol': 'Co', 'ime': 'Cobalt', 'izvor_imena': \"German Kobold, 'goblin'\", 'skupina': '9', 'perioda': '4', 'blok': 'd-block', 'rel_at_masa': '58.933', 'gostota': '8.90', 'talisce': '1768', 'vrelisce': '3200', 'spec_toplota': '0.421', 'el_neg': '1.88', 'pogostost_v_zem_skorji': '25', 'izvor': 'primordial', 'argegato': 'solid'}, {'atomsko_st': '28', 'simbol': 'Ni', 'ime': 'Nickel', 'izvor_imena': 'Nickel, a mischievous sprite of German miner mythology', 'skupina': '10', 'perioda': '4', 'blok': 'd-block', 'rel_at_masa': '58.693', 'gostota': '8.908', 'talisce': '1728', 'vrelisce': '3186', 'spec_toplota': '0.444', 'el_neg': '1.91', 'pogostost_v_zem_skorji': '84', 'izvor': 'primordial', 'argegato': 'solid'}, {'atomsko_st': '29', 'simbol': 'Cu', 'ime': 'Copper', 'izvor_imena': \"English word, from Latin cuprum, from Ancient Greek Kýpros 'Cyprus'\", 'skupina': '11', 'perioda': '4', 'blok': 'd-block', 'rel_at_masa': '63.546', 'gostota': '8.96', 'talisce': '1357.77', 'vrelisce': '2835', 'spec_toplota': '0.385', 'el_neg': '1.90', 'pogostost_v_zem_skorji': '60', 'izvor': 'primordial', 'argegato': 'solid'}, {'atomsko_st': '30', 'simbol': 'Zn', 'ime': 'Zinc', 'izvor_imena': \"Most likely from German Zinke, 'prong' or 'tooth', though some suggest Persian sang, 'stone'\", 'skupina': '12', 'perioda': '4', 'blok': 'd-block', 'rel_at_masa': '65.38', 'gostota': '7.14', 'talisce': '692.88', 'vrelisce': '1180', 'spec_toplota': '0.388', 'el_neg': '1.65', 'pogostost_v_zem_skorji': '70', 'izvor': 'primordial', 'argegato': 'solid'}, {'atomsko_st': '31', 'simbol': 'Ga', 'ime': 'Gallium', 'izvor_imena': \"Latin Gallia, 'France'\", 'skupina': '13', 'perioda': '4', 'blok': 'p-block', 'rel_at_masa': '69.723', 'gostota': '5.91', 'talisce': '302.9146', 'vrelisce': '2673', 'spec_toplota': '0.371', 'el_neg': '1.81', 'pogostost_v_zem_skorji': '19', 'izvor': 'primordial', 'argegato': 'solid'}, {'atomsko_st': '32', 'simbol': 'Ge', 'ime': 'Germanium', 'izvor_imena': \"Latin Germania, 'Germany'\", 'skupina': '14', 'perioda': '4', 'blok': 'p-block', 'rel_at_masa': '72.630', 'gostota': '5.323', 'talisce': '1211.40', 'vrelisce': '3106', 'spec_toplota': '0.32', 'el_neg': '2.01', 'pogostost_v_zem_skorji': '1.5', 'izvor': 'primordial', 'argegato': 'solid'}, {'atomsko_st': '33', 'simbol': 'As', 'ime': 'Arsenic', 'izvor_imena': \"French arsenic, from Greek arsenikón 'yellow arsenic' (influenced by arsenikós, 'masculine' or 'virile'), from a West Asian wanderword ultimately from Old Iranian *zarniya-ka, 'golden'\", 'skupina': '15', 'perioda': '4', 'blok': 'p-block', 'rel_at_masa': '74.922', 'gostota': '5.727', 'talisce': '1090', 'vrelisce': '887', 'spec_toplota': '0.329', 'el_neg': '2.18', 'pogostost_v_zem_skorji': '1.8', 'izvor': 'primordial', 'argegato': 'solid'}, {'atomsko_st': '34', 'simbol': 'Se', 'ime': 'Selenium', 'izvor_imena': \"Greek selḗnē, 'moon'\", 'skupina': '16', 'perioda': '4', 'blok': 'p-block', 'rel_at_masa': '78.971', 'gostota': '4.81', 'talisce': '453', 'vrelisce': '958', 'spec_toplota': '0.321', 'el_neg': '2.55', 'pogostost_v_zem_skorji': '0.05', 'izvor': 'primordial', 'argegato': 'solid'}, {'atomsko_st': '35', 'simbol': 'Br', 'ime': 'Bromine', 'izvor_imena': \"Greek brômos, 'stench'\", 'skupina': '17', 'perioda': '4', 'blok': 'p-block', 'rel_at_masa': '79.904', 'gostota': '3.1028', 'talisce': '265.8', 'vrelisce': '332.0', 'spec_toplota': '0.474', 'el_neg': '2.96', 'pogostost_v_zem_skorji': '2.4', 'izvor': 'primordial', 'argegato': 'liquid'}, {'atomsko_st': '36', 'simbol': 'Kr', 'ime': 'Krypton', 'izvor_imena': \"Greek kryptós, 'hidden'\", 'skupina': '18', 'perioda': '4', 'blok': 'p-block', 'rel_at_masa': '83.798', 'gostota': '0.003749', 'talisce': '115.79', 'vrelisce': '119.93', 'spec_toplota': '0.248', 'el_neg': '3.00', 'pogostost_v_zem_skorji': '1×10−4', 'izvor': 'primordial', 'argegato': 'gas'}, {'atomsko_st': '37', 'simbol': 'Rb', 'ime': 'Rubidium', 'izvor_imena': \"Latin rubidus, 'deep red'\", 'skupina': '1', 'perioda': '5', 'blok': 's-block', 'rel_at_masa': '85.468', 'gostota': '1.532', 'talisce': '312.46', 'vrelisce': '961', 'spec_toplota': '0.363', 'el_neg': '0.82', 'pogostost_v_zem_skorji': '90', 'izvor': 'primordial', 'argegato': 'solid'}, {'atomsko_st': '38', 'simbol': 'Sr', 'ime': 'Strontium', 'izvor_imena': 'Strontian, a village in Scotland, where it was found', 'skupina': '2', 'perioda': '5', 'blok': 's-block', 'rel_at_masa': '87.62', 'gostota': '2.64', 'talisce': '1050', 'vrelisce': '1655', 'spec_toplota': '0.301', 'el_neg': '0.95', 'pogostost_v_zem_skorji': '370', 'izvor': 'primordial', 'argegato': 'solid'}, {'atomsko_st': '39', 'simbol': 'Y', 'ime': 'Yttrium', 'izvor_imena': 'Ytterby, Sweden, where it was found; see also terbium, erbium, ytterbium', 'skupina': '3', 'perioda': '5', 'blok': 'd-block', 'rel_at_masa': '88.906', 'gostota': '4.472', 'talisce': '1799', 'vrelisce': '3609', 'spec_toplota': '0.298', 'el_neg': '1.22', 'pogostost_v_zem_skorji': '33', 'izvor': 'primordial', 'argegato': 'solid'}, {'atomsko_st': '40', 'simbol': 'Zr', 'ime': 'Zirconium', 'izvor_imena': \"Zircon, a mineral, from Persian zargun, 'gold-hued'\", 'skupina': '4', 'perioda': '5', 'blok': 'd-block', 'rel_at_masa': '91.224', 'gostota': '6.52', 'talisce': '2128', 'vrelisce': '4682', 'spec_toplota': '0.278', 'el_neg': '1.33', 'pogostost_v_zem_skorji': '165', 'izvor': 'primordial', 'argegato': 'solid'}, {'atomsko_st': '41', 'simbol': 'Nb', 'ime': 'Niobium', 'izvor_imena': 'Niobe, daughter of king Tantalus from Greek mythology; see also tantalum', 'skupina': '5', 'perioda': '5', 'blok': 'd-block', 'rel_at_masa': '92.906', 'gostota': '8.57', 'talisce': '2750', 'vrelisce': '5017', 'spec_toplota': '0.265', 'el_neg': '1.6', 'pogostost_v_zem_skorji': '20', 'izvor': 'primordial', 'argegato': 'solid'}, {'atomsko_st': '42', 'simbol': 'Mo', 'ime': 'Molybdenum', 'izvor_imena': \"Greek molýbdaina, 'piece of lead', from mólybdos, 'lead', due to confusion with lead ore galena (PbS)\", 'skupina': '6', 'perioda': '5', 'blok': 'd-block', 'rel_at_masa': '95.95', 'gostota': '10.28', 'talisce': '2896', 'vrelisce': '4912', 'spec_toplota': '0.251', 'el_neg': '2.16', 'pogostost_v_zem_skorji': '1.2', 'izvor': 'primordial', 'argegato': 'solid'}, {'atomsko_st': '43', 'simbol': 'Tc', 'ime': 'Technetium', 'izvor_imena': \"Greek tekhnētós, 'artificial'\", 'skupina': '7', 'perioda': '5', 'blok': 'd-block', 'rel_at_masa': '[97]', 'gostota': '11', 'talisce': '2430', 'vrelisce': '4538', 'spec_toplota': '', 'el_neg': '1.9', 'pogostost_v_zem_skorji': '~3×10−9', 'izvor': 'from decay', 'argegato': 'solid'}, {'atomsko_st': '44', 'simbol': 'Ru', 'ime': 'Ruthenium', 'izvor_imena': \"Neo-Latin Ruthenia, 'Russia'\", 'skupina': '8', 'perioda': '5', 'blok': 'd-block', 'rel_at_masa': '101.07', 'gostota': '12.45', 'talisce': '2607', 'vrelisce': '4423', 'spec_toplota': '0.238', 'el_neg': '2.2', 'pogostost_v_zem_skorji': '0.001', 'izvor': 'primordial', 'argegato': 'solid'}, {'atomsko_st': '45', 'simbol': 'Rh', 'ime': 'Rhodium', 'izvor_imena': \"Greek rhodóeis, 'rose-coloured', from rhódon, 'rose'\", 'skupina': '9', 'perioda': '5', 'blok': 'd-block', 'rel_at_masa': '102.91', 'gostota': '12.41', 'talisce': '2237', 'vrelisce': '3968', 'spec_toplota': '0.243', 'el_neg': '2.28', 'pogostost_v_zem_skorji': '0.001', 'izvor': 'primordial', 'argegato': 'solid'}, {'atomsko_st': '46', 'simbol': 'Pd', 'ime': 'Palladium', 'izvor_imena': 'Pallas, an asteroid, considered a planet at the time', 'skupina': '10', 'perioda': '5', 'blok': 'd-block', 'rel_at_masa': '106.42', 'gostota': '12.023', 'talisce': '1828.05', 'vrelisce': '3236', 'spec_toplota': '0.244', 'el_neg': '2.20', 'pogostost_v_zem_skorji': '0.015', 'izvor': 'primordial', 'argegato': 'solid'}, {'atomsko_st': '47', 'simbol': 'Ag', 'ime': 'Silver', 'izvor_imena': 'English wordSymbol Ag is derived from Latin argentum', 'skupina': '11', 'perioda': '5', 'blok': 'd-block', 'rel_at_masa': '107.87', 'gostota': '10.49', 'talisce': '1234.93', 'vrelisce': '2435', 'spec_toplota': '0.235', 'el_neg': '1.93', 'pogostost_v_zem_skorji': '0.075', 'izvor': 'primordial', 'argegato': 'solid'}, {'atomsko_st': '48', 'simbol': 'Cd', 'ime': 'Cadmium', 'izvor_imena': 'Neo-Latin cadmia, from King Kadmos', 'skupina': '12', 'perioda': '5', 'blok': 'd-block', 'rel_at_masa': '112.41', 'gostota': '8.65', 'talisce': '594.22', 'vrelisce': '1040', 'spec_toplota': '0.232', 'el_neg': '1.69', 'pogostost_v_zem_skorji': '0.159', 'izvor': 'primordial', 'argegato': 'solid'}, {'atomsko_st': '49', 'simbol': 'In', 'ime': 'Indium', 'izvor_imena': \"Latin indicum, 'indigo', the blue colour found in its spectrum\", 'skupina': '13', 'perioda': '5', 'blok': 'p-block', 'rel_at_masa': '114.82', 'gostota': '7.31', 'talisce': '429.75', 'vrelisce': '2345', 'spec_toplota': '0.233', 'el_neg': '1.78', 'pogostost_v_zem_skorji': '0.25', 'izvor': 'primordial', 'argegato': 'solid'}, {'atomsko_st': '50', 'simbol': 'Sn', 'ime': 'Tin', 'izvor_imena': 'English wordSymbol Sn is derived from Latin stannum', 'skupina': '14', 'perioda': '5', 'blok': 'p-block', 'rel_at_masa': '118.71', 'gostota': '7.265', 'talisce': '505.08', 'vrelisce': '2875', 'spec_toplota': '0.228', 'el_neg': '1.96', 'pogostost_v_zem_skorji': '2.3', 'izvor': 'primordial', 'argegato': 'solid'}, {'atomsko_st': '51', 'simbol': 'Sb', 'ime': 'Antimony', 'izvor_imena': \"Latin antimonium, the origin of which is uncertain: folk etymologies suggest it is derived from Greek antí ('against') + mónos ('alone'), or Old French anti-moine, 'Monk's bane', but it could plausibly be from or related to Arabic ʾiṯmid, 'antimony', reformatted as a Latin wordSymbol Sb is derived from Latin stibium 'stibnite'\", 'skupina': '15', 'perioda': '5', 'blok': 'p-block', 'rel_at_masa': '121.76', 'gostota': '6.697', 'talisce': '903.78', 'vrelisce': '1860', 'spec_toplota': '0.207', 'el_neg': '2.05', 'pogostost_v_zem_skorji': '0.2', 'izvor': 'primordial', 'argegato': 'solid'}, {'atomsko_st': '52', 'simbol': 'Te', 'ime': 'Tellurium', 'izvor_imena': \"Latin tellus, 'the ground, earth'\", 'skupina': '16', 'perioda': '5', 'blok': 'p-block', 'rel_at_masa': '127.60', 'gostota': '6.24', 'talisce': '722.66', 'vrelisce': '1261', 'spec_toplota': '0.202', 'el_neg': '2.1', 'pogostost_v_zem_skorji': '0.001', 'izvor': 'primordial', 'argegato': 'solid'}, {'atomsko_st': '53', 'simbol': 'I', 'ime': 'Iodine', 'izvor_imena': \"French iode, from Greek ioeidḗs, 'violet'\", 'skupina': '17', 'perioda': '5', 'blok': 'p-block', 'rel_at_masa': '126.90', 'gostota': '4.933', 'talisce': '386.85', 'vrelisce': '457.4', 'spec_toplota': '0.214', 'el_neg': '2.66', 'pogostost_v_zem_skorji': '0.45', 'izvor': 'primordial', 'argegato': 'solid'}, {'atomsko_st': '54', 'simbol': 'Xe', 'ime': 'Xenon', 'izvor_imena': \"Greek xénon, neuter form of xénos 'strange'\", 'skupina': '18', 'perioda': '5', 'blok': 'p-block', 'rel_at_masa': '131.29', 'gostota': '0.005894', 'talisce': '161.4', 'vrelisce': '165.03', 'spec_toplota': '0.158', 'el_neg': '2.60', 'pogostost_v_zem_skorji': '3×10−5', 'izvor': 'primordial', 'argegato': 'gas'}, {'atomsko_st': '55', 'simbol': 'Cs', 'ime': 'Caesium', 'izvor_imena': \"Latin caesius, 'sky-blue'\", 'skupina': '1', 'perioda': '6', 'blok': 's-block', 'rel_at_masa': '132.91', 'gostota': '1.93', 'talisce': '301.59', 'vrelisce': '944', 'spec_toplota': '0.242', 'el_neg': '0.79', 'pogostost_v_zem_skorji': '3', 'izvor': 'primordial', 'argegato': 'solid'}, {'atomsko_st': '56', 'simbol': 'Ba', 'ime': 'Barium', 'izvor_imena': \"Greek barýs, 'heavy'\", 'skupina': '2', 'perioda': '6', 'blok': 's-block', 'rel_at_masa': '137.33', 'gostota': '3.51', 'talisce': '1000', 'vrelisce': '2170', 'spec_toplota': '0.204', 'el_neg': '0.89', 'pogostost_v_zem_skorji': '425', 'izvor': 'primordial', 'argegato': 'solid'}, {'atomsko_st': '57', 'simbol': 'La', 'ime': 'Lanthanum', 'izvor_imena': \"Greek lanthánein, 'to lie hidden'\", 'skupina': 'f-block groups', 'perioda': '6', 'blok': 'f-block', 'rel_at_masa': '138.91', 'gostota': '6.162', 'talisce': '1193', 'vrelisce': '3737', 'spec_toplota': '0.195', 'el_neg': '1.1', 'pogostost_v_zem_skorji': '39', 'izvor': 'primordial', 'argegato': 'solid'}, {'atomsko_st': '58', 'simbol': 'Ce', 'ime': 'Cerium', 'izvor_imena': 'Ceres, a dwarf planet, considered a planet at the time', 'skupina': 'f-block groups', 'perioda': '6', 'blok': 'f-block', 'rel_at_masa': '140.12', 'gostota': '6.770', 'talisce': '1068', 'vrelisce': '3716', 'spec_toplota': '0.192', 'el_neg': '1.12', 'pogostost_v_zem_skorji': '66.5', 'izvor': 'primordial', 'argegato': 'solid'}, {'atomsko_st': '59', 'simbol': 'Pr', 'ime': 'Praseodymium', 'izvor_imena': \"Greek prásios dídymos, 'greentwin'\", 'skupina': 'f-block groups', 'perioda': '6', 'blok': 'f-block', 'rel_at_masa': '140.91', 'gostota': '6.77', 'talisce': '1208', 'vrelisce': '3793', 'spec_toplota': '0.193', 'el_neg': '1.13', 'pogostost_v_zem_skorji': '9.2', 'izvor': 'primordial', 'argegato': 'solid'}, {'atomsko_st': '60', 'simbol': 'Nd', 'ime': 'Neodymium', 'izvor_imena': \"Greek néos dídymos, 'newtwin'\", 'skupina': 'f-block groups', 'perioda': '6', 'blok': 'f-block', 'rel_at_masa': '144.24', 'gostota': '7.01', 'talisce': '1297', 'vrelisce': '3347', 'spec_toplota': '0.19', 'el_neg': '1.14', 'pogostost_v_zem_skorji': '41.5', 'izvor': 'primordial', 'argegato': 'solid'}, {'atomsko_st': '61', 'simbol': 'Pm', 'ime': 'Promethium', 'izvor_imena': 'Prometheus, a figure in Greek mythology', 'skupina': 'f-block groups', 'perioda': '6', 'blok': 'f-block', 'rel_at_masa': '[145]', 'gostota': '7.26', 'talisce': '1315', 'vrelisce': '3273', 'spec_toplota': '', 'el_neg': '1.13', 'pogostost_v_zem_skorji': '2×10−19', 'izvor': 'from decay', 'argegato': 'solid'}, {'atomsko_st': '62', 'simbol': 'Sm', 'ime': 'Samarium', 'izvor_imena': 'Samarskite, a mineral named after V. Samarsky-Bykhovets, Russian mine official', 'skupina': 'f-block groups', 'perioda': '6', 'blok': 'f-block', 'rel_at_masa': '150.36', 'gostota': '7.52', 'talisce': '1345', 'vrelisce': '2067', 'spec_toplota': '0.197', 'el_neg': '1.17', 'pogostost_v_zem_skorji': '7.05', 'izvor': 'primordial', 'argegato': 'solid'}, {'atomsko_st': '63', 'simbol': 'Eu', 'ime': 'Europium', 'izvor_imena': 'Europe', 'skupina': 'f-block groups', 'perioda': '6', 'blok': 'f-block', 'rel_at_masa': '151.96', 'gostota': '5.244', 'talisce': '1099', 'vrelisce': '1802', 'spec_toplota': '0.182', 'el_neg': '1.2', 'pogostost_v_zem_skorji': '2', 'izvor': 'primordial', 'argegato': 'solid'}, {'atomsko_st': '64', 'simbol': 'Gd', 'ime': 'Gadolinium', 'izvor_imena': 'Gadolinite, a mineral named after Johan Gadolin, Finnish chemist, physicist and mineralogist', 'skupina': 'f-block groups', 'perioda': '6', 'blok': 'f-block', 'rel_at_masa': '157.25', 'gostota': '7.90', 'talisce': '1585', 'vrelisce': '3546', 'spec_toplota': '0.236', 'el_neg': '1.2', 'pogostost_v_zem_skorji': '6.2', 'izvor': 'primordial', 'argegato': 'solid'}, {'atomsko_st': '65', 'simbol': 'Tb', 'ime': 'Terbium', 'izvor_imena': 'Ytterby, Sweden, where it was found; see also yttrium, erbium, ytterbium', 'skupina': 'f-block groups', 'perioda': '6', 'blok': 'f-block', 'rel_at_masa': '158.93', 'gostota': '8.23', 'talisce': '1629', 'vrelisce': '3503', 'spec_toplota': '0.182', 'el_neg': '1.2', 'pogostost_v_zem_skorji': '1.2', 'izvor': 'primordial', 'argegato': 'solid'}, {'atomsko_st': '66', 'simbol': 'Dy', 'ime': 'Dysprosium', 'izvor_imena': \"Greek dysprósitos, 'hard to get'\", 'skupina': 'f-block groups', 'perioda': '6', 'blok': 'f-block', 'rel_at_masa': '162.50', 'gostota': '8.540', 'talisce': '1680', 'vrelisce': '2840', 'spec_toplota': '0.17', 'el_neg': '1.22', 'pogostost_v_zem_skorji': '5.2', 'izvor': 'primordial', 'argegato': 'solid'}, {'atomsko_st': '67', 'simbol': 'Ho', 'ime': 'Holmium', 'izvor_imena': \"Neo-Latin Holmia, 'Stockholm'\", 'skupina': 'f-block groups', 'perioda': '6', 'blok': 'f-block', 'rel_at_masa': '164.93', 'gostota': '8.79', 'talisce': '1734', 'vrelisce': '2993', 'spec_toplota': '0.165', 'el_neg': '1.23', 'pogostost_v_zem_skorji': '1.3', 'izvor': 'primordial', 'argegato': 'solid'}, {'atomsko_st': '68', 'simbol': 'Er', 'ime': 'Erbium', 'izvor_imena': 'Ytterby, Sweden, where it was found; see also yttrium, terbium, ytterbium', 'skupina': 'f-block groups', 'perioda': '6', 'blok': 'f-block', 'rel_at_masa': '167.26', 'gostota': '9.066', 'talisce': '1802', 'vrelisce': '3141', 'spec_toplota': '0.168', 'el_neg': '1.24', 'pogostost_v_zem_skorji': '3.5', 'izvor': 'primordial', 'argegato': 'solid'}, {'atomsko_st': '69', 'simbol': 'Tm', 'ime': 'Thulium', 'izvor_imena': 'Thule, the ancient name for an unclear northern location', 'skupina': 'f-block groups', 'perioda': '6', 'blok': 'f-block', 'rel_at_masa': '168.93', 'gostota': '9.32', 'talisce': '1818', 'vrelisce': '2223', 'spec_toplota': '0.16', 'el_neg': '1.25', 'pogostost_v_zem_skorji': '0.52', 'izvor': 'primordial', 'argegato': 'solid'}, {'atomsko_st': '70', 'simbol': 'Yb', 'ime': 'Ytterbium', 'izvor_imena': 'Ytterby, Sweden, where it was found; see also yttrium, terbium, erbium', 'skupina': 'f-block groups', 'perioda': '6', 'blok': 'f-block', 'rel_at_masa': '173.05', 'gostota': '6.90', 'talisce': '1097', 'vrelisce': '1469', 'spec_toplota': '0.155', 'el_neg': '1.1', 'pogostost_v_zem_skorji': '3.2', 'izvor': 'primordial', 'argegato': 'solid'}, {'atomsko_st': '71', 'simbol': 'Lu', 'ime': 'Lutetium', 'izvor_imena': \"Latin Lutetia, 'Paris'\", 'skupina': '3', 'perioda': '6', 'blok': 'd-block', 'rel_at_masa': '174.97', 'gostota': '9.841', 'talisce': '1925', 'vrelisce': '3675', 'spec_toplota': '0.154', 'el_neg': '1.27', 'pogostost_v_zem_skorji': '0.8', 'izvor': 'primordial', 'argegato': 'solid'}, {'atomsko_st': '72', 'simbol': 'Hf', 'ime': 'Hafnium', 'izvor_imena': \"Neo-Latin Hafnia, 'Copenhagen' (from Danish havn, harbour)\", 'skupina': '4', 'perioda': '6', 'blok': 'd-block', 'rel_at_masa': '178.49', 'gostota': '13.31', 'talisce': '2506', 'vrelisce': '4876', 'spec_toplota': '0.144', 'el_neg': '1.3', 'pogostost_v_zem_skorji': '3', 'izvor': 'primordial', 'argegato': 'solid'}, {'atomsko_st': '73', 'simbol': 'Ta', 'ime': 'Tantalum', 'izvor_imena': 'King Tantalus, father of Niobe from Greek mythology; see also niobium', 'skupina': '5', 'perioda': '6', 'blok': 'd-block', 'rel_at_masa': '180.95', 'gostota': '16.69', 'talisce': '3290', 'vrelisce': '5731', 'spec_toplota': '0.14', 'el_neg': '1.5', 'pogostost_v_zem_skorji': '2', 'izvor': 'primordial', 'argegato': 'solid'}, {'atomsko_st': '74', 'simbol': 'W', 'ime': 'Tungsten', 'izvor_imena': \"Swedish tung sten, 'heavy stone'\", 'skupina': '6', 'perioda': '6', 'blok': 'd-block', 'rel_at_masa': '183.84', 'gostota': '19.25', 'talisce': '3695', 'vrelisce': '5828', 'spec_toplota': '0.132', 'el_neg': '2.36', 'pogostost_v_zem_skorji': '1.3', 'izvor': 'primordial', 'argegato': 'solid'}, {'atomsko_st': '75', 'simbol': 'Re', 'ime': 'Rhenium', 'izvor_imena': \"Latin Rhenus, 'the Rhine'\", 'skupina': '7', 'perioda': '6', 'blok': 'd-block', 'rel_at_masa': '186.21', 'gostota': '21.02', 'talisce': '3459', 'vrelisce': '5869', 'spec_toplota': '0.137', 'el_neg': '1.9', 'pogostost_v_zem_skorji': '7×10−4', 'izvor': 'primordial', 'argegato': 'solid'}, {'atomsko_st': '76', 'simbol': 'Os', 'ime': 'Osmium', 'izvor_imena': \"Greek osmḗ, 'smell'\", 'skupina': '8', 'perioda': '6', 'blok': 'd-block', 'rel_at_masa': '190.23', 'gostota': '22.59', 'talisce': '3306', 'vrelisce': '5285', 'spec_toplota': '0.13', 'el_neg': '2.2', 'pogostost_v_zem_skorji': '0.002', 'izvor': 'primordial', 'argegato': 'solid'}, {'atomsko_st': '77', 'simbol': 'Ir', 'ime': 'Iridium', 'izvor_imena': 'Iris, the Greek goddess of the rainbow', 'skupina': '9', 'perioda': '6', 'blok': 'd-block', 'rel_at_masa': '192.22', 'gostota': '22.56', 'talisce': '2719', 'vrelisce': '4701', 'spec_toplota': '0.131', 'el_neg': '2.20', 'pogostost_v_zem_skorji': '0.001', 'izvor': 'primordial', 'argegato': 'solid'}, {'atomsko_st': '78', 'simbol': 'Pt', 'ime': 'Platinum', 'izvor_imena': \"Spanish platina, 'little silver', from plata 'silver'\", 'skupina': '10', 'perioda': '6', 'blok': 'd-block', 'rel_at_masa': '195.08', 'gostota': '21.45', 'talisce': '2041.4', 'vrelisce': '4098', 'spec_toplota': '0.133', 'el_neg': '2.28', 'pogostost_v_zem_skorji': '0.005', 'izvor': 'primordial', 'argegato': 'solid'}, {'atomsko_st': '79', 'simbol': 'Au', 'ime': 'Gold', 'izvor_imena': \"English word, from the same root as 'yellow'Symbol Au is derived from Latin aurum\", 'skupina': '11', 'perioda': '6', 'blok': 'd-block', 'rel_at_masa': '196.97', 'gostota': '19.3', 'talisce': '1337.33', 'vrelisce': '3129', 'spec_toplota': '0.129', 'el_neg': '2.54', 'pogostost_v_zem_skorji': '0.004', 'izvor': 'primordial', 'argegato': 'solid'}, {'atomsko_st': '80', 'simbol': 'Hg', 'ime': 'Mercury', 'izvor_imena': \"Mercury, Roman god of commerce, communication, and luck, known for his speed and mobilitySymbol Hg is derived from its Latin name hydrargyrum, from Greek hydrárgyros, 'water-silver'\", 'skupina': '12', 'perioda': '6', 'blok': 'd-block', 'rel_at_masa': '200.59', 'gostota': '13.534', 'talisce': '234.43', 'vrelisce': '629.88', 'spec_toplota': '0.14', 'el_neg': '2.00', 'pogostost_v_zem_skorji': '0.085', 'izvor': 'primordial', 'argegato': 'liquid'}, {'atomsko_st': '81', 'simbol': 'Tl', 'ime': 'Thallium', 'izvor_imena': \"Greek thallós, 'green shoot or twig'\", 'skupina': '13', 'perioda': '6', 'blok': 'p-block', 'rel_at_masa': '204.38', 'gostota': '11.85', 'talisce': '577', 'vrelisce': '1746', 'spec_toplota': '0.129', 'el_neg': '1.62', 'pogostost_v_zem_skorji': '0.85', 'izvor': 'primordial', 'argegato': 'solid'}, {'atomsko_st': '82', 'simbol': 'Pb', 'ime': 'Lead', 'izvor_imena': \"English word, from Proto-Celtic *ɸloudom, from a root meaning 'flow'Symbol Pb is derived from Latin plumbum\", 'skupina': '14', 'perioda': '6', 'blok': 'p-block', 'rel_at_masa': '207.2', 'gostota': '11.34', 'talisce': '600.61', 'vrelisce': '2022', 'spec_toplota': '0.129', 'el_neg': '1.87(2+)2.33 (4+)', 'pogostost_v_zem_skorji': '14', 'izvor': 'primordial', 'argegato': 'solid'}, {'atomsko_st': '83', 'simbol': 'Bi', 'ime': 'Bismuth', 'izvor_imena': \"German Wismut, from weiß Masse 'white mass', unless from Arabic\", 'skupina': '15', 'perioda': '6', 'blok': 'p-block', 'rel_at_masa': '208.98', 'gostota': '9.78', 'talisce': '544.7', 'vrelisce': '1837', 'spec_toplota': '0.122', 'el_neg': '2.02', 'pogostost_v_zem_skorji': '0.009', 'izvor': 'primordial', 'argegato': 'solid'}, {'atomsko_st': '84', 'simbol': 'Po', 'ime': 'Polonium', 'izvor_imena': \"Latin Polonia, 'Poland', home country of Marie Curie\", 'skupina': '16', 'perioda': '6', 'blok': 'p-block', 'rel_at_masa': '[209]', 'gostota': '9.196', 'talisce': '527', 'vrelisce': '1235', 'spec_toplota': '', 'el_neg': '2.0', 'pogostost_v_zem_skorji': '2×10−10', 'izvor': 'from decay', 'argegato': 'solid'}, {'atomsko_st': '85', 'simbol': 'At', 'ime': 'Astatine', 'izvor_imena': \"Greek ástatos, 'unstable'\", 'skupina': '17', 'perioda': '6', 'blok': 'p-block', 'rel_at_masa': '[210]', 'gostota': '(8.918.95)', 'talisce': '575', 'vrelisce': '610', 'spec_toplota': '', 'el_neg': '2.2', 'pogostost_v_zem_skorji': '3×10−20', 'izvor': 'from decay', 'argegato': 'unknown phase'}, {'atomsko_st': '86', 'simbol': 'Rn', 'ime': 'Radon', 'izvor_imena': 'Radium emanation, originally the name of the isotope Radon-222', 'skupina': '18', 'perioda': '6', 'blok': 'p-block', 'rel_at_masa': '[222]', 'gostota': '0.00973', 'talisce': '202', 'vrelisce': '211.3', 'spec_toplota': '0.094', 'el_neg': '2.2', 'pogostost_v_zem_skorji': '4×10−13', 'izvor': 'from decay', 'argegato': 'gas'}, {'atomsko_st': '87', 'simbol': 'Fr', 'ime': 'Francium', 'izvor_imena': 'France, home country of discoverer Marguerite Perey', 'skupina': '1', 'perioda': '7', 'blok': 's-block', 'rel_at_masa': '[223]', 'gostota': '(2.48)', 'talisce': '281', 'vrelisce': '890', 'spec_toplota': '', 'el_neg': '&gt;0.79', 'pogostost_v_zem_skorji': '~1×10−18', 'izvor': 'from decay', 'argegato': 'unknown phase'}, {'atomsko_st': '88', 'simbol': 'Ra', 'ime': 'Radium', 'izvor_imena': \"French radium, from Latin radius, 'ray'\", 'skupina': '2', 'perioda': '7', 'blok': 's-block', 'rel_at_masa': '[226]', 'gostota': '5.5', 'talisce': '973', 'vrelisce': '2010', 'spec_toplota': '0.094', 'el_neg': '0.9', 'pogostost_v_zem_skorji': '9×10−7', 'izvor': 'from decay', 'argegato': 'solid'}, {'atomsko_st': '89', 'simbol': 'Ac', 'ime': 'Actinium', 'izvor_imena': \"Greek aktís, 'ray'\", 'skupina': 'f-block groups', 'perioda': '7', 'blok': 'f-block', 'rel_at_masa': '[227]', 'gostota': '10', 'talisce': '1323', 'vrelisce': '3471', 'spec_toplota': '0.12', 'el_neg': '1.1', 'pogostost_v_zem_skorji': '5.5×10−10', 'izvor': 'from decay', 'argegato': 'solid'}, {'atomsko_st': '90', 'simbol': 'Th', 'ime': 'Thorium', 'izvor_imena': 'Thor, the Scandinavian god of thunder', 'skupina': 'f-block groups', 'perioda': '7', 'blok': 'f-block', 'rel_at_masa': '232.04', 'gostota': '11.7', 'talisce': '2115', 'vrelisce': '5061', 'spec_toplota': '0.113', 'el_neg': '1.3', 'pogostost_v_zem_skorji': '9.6', 'izvor': 'primordial', 'argegato': 'solid'}, {'atomsko_st': '91', 'simbol': 'Pa', 'ime': 'Protactinium', 'izvor_imena': \"Proto- (from Greek prôtos, 'first, before') + actinium, since actinium is produced through the radioactive decay of protactinium\", 'skupina': 'f-block groups', 'perioda': '7', 'blok': 'f-block', 'rel_at_masa': '231.04', 'gostota': '15.37', 'talisce': '1841', 'vrelisce': '4300', 'spec_toplota': '', 'el_neg': '1.5', 'pogostost_v_zem_skorji': '1.4×10−6', 'izvor': 'from decay', 'argegato': 'solid'}, {'atomsko_st': '92', 'simbol': 'U', 'ime': 'Uranium', 'izvor_imena': 'Uranus, the seventh planet in the Solar System', 'skupina': 'f-block groups', 'perioda': '7', 'blok': 'f-block', 'rel_at_masa': '238.03', 'gostota': '19.1', 'talisce': '1405.3', 'vrelisce': '4404', 'spec_toplota': '0.116', 'el_neg': '1.38', 'pogostost_v_zem_skorji': '2.7', 'izvor': 'primordial', 'argegato': 'solid'}, {'atomsko_st': '93', 'simbol': 'Np', 'ime': 'Neptunium', 'izvor_imena': 'Neptune, the eighth planet in the Solar System', 'skupina': 'f-block groups', 'perioda': '7', 'blok': 'f-block', 'rel_at_masa': '[237]', 'gostota': '20.45', 'talisce': '917', 'vrelisce': '4273', 'spec_toplota': '', 'el_neg': '1.36', 'pogostost_v_zem_skorji': '≤3×10−12', 'izvor': 'from decay', 'argegato': 'solid'}, {'atomsko_st': '94', 'simbol': 'Pu', 'ime': 'Plutonium', 'izvor_imena': 'Pluto, a dwarf planet, considered a planet in the Solar System at the time', 'skupina': 'f-block groups', 'perioda': '7', 'blok': 'f-block', 'rel_at_masa': '[244]', 'gostota': '19.85', 'talisce': '912.5', 'vrelisce': '3501', 'spec_toplota': '', 'el_neg': '1.28', 'pogostost_v_zem_skorji': '≤3×10−11', 'izvor': 'from decay', 'argegato': 'solid'}, {'atomsko_st': '95', 'simbol': 'Am', 'ime': 'Americium', 'izvor_imena': 'The Americas, where the element was first synthesised, by analogy with its homologue §europium', 'skupina': 'f-block groups', 'perioda': '7', 'blok': 'f-block', 'rel_at_masa': '[243]', 'gostota': '12', 'talisce': '1449', 'vrelisce': '2880', 'spec_toplota': '', 'el_neg': '1.13', 'pogostost_v_zem_skorji': '', 'izvor': 'synthetic', 'argegato': 'solid'}, {'atomsko_st': '96', 'simbol': 'Cm', 'ime': 'Curium', 'izvor_imena': 'Pierre Curie and Marie Curie, French physicists and chemists', 'skupina': 'f-block groups', 'perioda': '7', 'blok': 'f-block', 'rel_at_masa': '[247]', 'gostota': '13.51', 'talisce': '1613', 'vrelisce': '3383', 'spec_toplota': '', 'el_neg': '1.28', 'pogostost_v_zem_skorji': '', 'izvor': 'synthetic', 'argegato': 'solid'}, {'atomsko_st': '97', 'simbol': 'Bk', 'ime': 'Berkelium', 'izvor_imena': 'Berkeley, California, where the element was first synthesised', 'skupina': 'f-block groups', 'perioda': '7', 'blok': 'f-block', 'rel_at_masa': '[247]', 'gostota': '14.78', 'talisce': '1259', 'vrelisce': '2900', 'spec_toplota': '', 'el_neg': '1.3', 'pogostost_v_zem_skorji': '', 'izvor': 'synthetic', 'argegato': 'solid'}, {'atomsko_st': '98', 'simbol': 'Cf', 'ime': 'Californium', 'izvor_imena': 'California, where the element was first synthesised in the LBNL laboratory', 'skupina': 'f-block groups', 'perioda': '7', 'blok': 'f-block', 'rel_at_masa': '[251]', 'gostota': '15.1', 'talisce': '1173', 'vrelisce': '(1743)', 'spec_toplota': '', 'el_neg': '1.3', 'pogostost_v_zem_skorji': '', 'izvor': 'synthetic', 'argegato': 'solid'}, {'atomsko_st': '99', 'simbol': 'Es', 'ime': 'Einsteinium', 'izvor_imena': 'Albert Einstein, German physicist', 'skupina': 'f-block groups', 'perioda': '7', 'blok': 'f-block', 'rel_at_masa': '[252]', 'gostota': '8.84', 'talisce': '1133', 'vrelisce': '(1269)', 'spec_toplota': '', 'el_neg': '1.3', 'pogostost_v_zem_skorji': '', 'izvor': 'synthetic', 'argegato': 'solid'}, {'atomsko_st': '100', 'simbol': 'Fm', 'ime': 'Fermium', 'izvor_imena': 'Enrico Fermi, Italian physicist', 'skupina': 'f-block groups', 'perioda': '7', 'blok': 'f-block', 'rel_at_masa': '[257]', 'gostota': '(9.7)', 'talisce': '(1125)', 'vrelisce': '', 'spec_toplota': '', 'el_neg': '1.3', 'pogostost_v_zem_skorji': '', 'izvor': 'synthetic', 'argegato': 'unknown phase'}, {'atomsko_st': '101', 'simbol': 'Md', 'ime': 'Mendelevium', 'izvor_imena': 'Dmitri Mendeleev, Russian chemist who proposed the periodic table', 'skupina': 'f-block groups', 'perioda': '7', 'blok': 'f-block', 'rel_at_masa': '[258]', 'gostota': '(10.3)', 'talisce': '(1100)', 'vrelisce': '', 'spec_toplota': '', 'el_neg': '1.3', 'pogostost_v_zem_skorji': '', 'izvor': 'synthetic', 'argegato': 'unknown phase'}, {'atomsko_st': '102', 'simbol': 'No', 'ime': 'Nobelium', 'izvor_imena': 'Alfred Nobel, Swedish chemist and engineer', 'skupina': 'f-block groups', 'perioda': '7', 'blok': 'f-block', 'rel_at_masa': '[259]', 'gostota': '(9.9)', 'talisce': '(1100)', 'vrelisce': '', 'spec_toplota': '', 'el_neg': '1.3', 'pogostost_v_zem_skorji': '', 'izvor': 'synthetic', 'argegato': 'unknown phase'}, {'atomsko_st': '103', 'simbol': 'Lr', 'ime': 'Lawrencium', 'izvor_imena': 'Ernest Lawrence, American physicist', 'skupina': '3', 'perioda': '7', 'blok': 'd-block', 'rel_at_masa': '[266]', 'gostota': '(14.4)', 'talisce': '(1900)', 'vrelisce': '', 'spec_toplota': '', 'el_neg': '1.3', 'pogostost_v_zem_skorji': '', 'izvor': 'synthetic', 'argegato': 'unknown phase'}, {'atomsko_st': '104', 'simbol': 'Rf', 'ime': 'Rutherfordium', 'izvor_imena': 'Ernest Rutherford, chemist and physicist from New Zealand', 'skupina': '4', 'perioda': '7', 'blok': 'd-block', 'rel_at_masa': '[267]', 'gostota': '(17)', 'talisce': '(2400)', 'vrelisce': '(5800)', 'spec_toplota': '', 'el_neg': '', 'pogostost_v_zem_skorji': '', 'izvor': 'synthetic', 'argegato': 'unknown phase'}, {'atomsko_st': '105', 'simbol': 'Db', 'ime': 'Dubnium', 'izvor_imena': 'Dubna, Russia, where the element was discovered in the JINR laboratory', 'skupina': '5', 'perioda': '7', 'blok': 'd-block', 'rel_at_masa': '[268]', 'gostota': '(21.6)', 'talisce': '', 'vrelisce': '', 'spec_toplota': '', 'el_neg': '', 'pogostost_v_zem_skorji': '', 'izvor': 'synthetic', 'argegato': 'unknown phase'}, {'atomsko_st': '106', 'simbol': 'Sg', 'ime': 'Seaborgium', 'izvor_imena': 'Glenn T. Seaborg, American chemist', 'skupina': '6', 'perioda': '7', 'blok': 'd-block', 'rel_at_masa': '[269]', 'gostota': '(2324)', 'talisce': '', 'vrelisce': '', 'spec_toplota': '', 'el_neg': '', 'pogostost_v_zem_skorji': '', 'izvor': 'synthetic', 'argegato': 'unknown phase'}, {'atomsko_st': '107', 'simbol': 'Bh', 'ime': 'Bohrium', 'izvor_imena': 'Niels Bohr, Danish physicist', 'skupina': '7', 'perioda': '7', 'blok': 'd-block', 'rel_at_masa': '[270]', 'gostota': '(2627)', 'talisce': '', 'vrelisce': '', 'spec_toplota': '', 'el_neg': '', 'pogostost_v_zem_skorji': '', 'izvor': 'synthetic', 'argegato': 'unknown phase'}, {'atomsko_st': '108', 'simbol': 'Hs', 'ime': 'Hassium', 'izvor_imena': \"Neo-Latin Hassia, 'Hesse', a state in Germany\", 'skupina': '8', 'perioda': '7', 'blok': 'd-block', 'rel_at_masa': '[269]', 'gostota': '(2729)', 'talisce': '', 'vrelisce': '', 'spec_toplota': '', 'el_neg': '', 'pogostost_v_zem_skorji': '', 'izvor': 'synthetic', 'argegato': 'unknown phase'}, {'atomsko_st': '109', 'simbol': 'Mt', 'ime': 'Meitnerium', 'izvor_imena': 'Lise Meitner, Austrian physicist', 'skupina': '9', 'perioda': '7', 'blok': 'd-block', 'rel_at_masa': '[278]', 'gostota': '(2728)', 'talisce': '', 'vrelisce': '', 'spec_toplota': '', 'el_neg': '', 'pogostost_v_zem_skorji': '', 'izvor': 'synthetic', 'argegato': 'unknown phase'}, {'atomsko_st': '110', 'simbol': 'Ds', 'ime': 'Darmstadtium', 'izvor_imena': 'Darmstadt, Germany, where the element was first synthesised in the GSI laboratories', 'skupina': '10', 'perioda': '7', 'blok': 'd-block', 'rel_at_masa': '[281]', 'gostota': '(2627)', 'talisce': '', 'vrelisce': '', 'spec_toplota': '', 'el_neg': '', 'pogostost_v_zem_skorji': '', 'izvor': 'synthetic', 'argegato': 'unknown phase'}, {'atomsko_st': '111', 'simbol': 'Rg', 'ime': 'Roentgenium', 'izvor_imena': 'Wilhelm Conrad Röntgen, German physicist', 'skupina': '11', 'perioda': '7', 'blok': 'd-block', 'rel_at_masa': '[282]', 'gostota': '(2224)', 'talisce': '', 'vrelisce': '', 'spec_toplota': '', 'el_neg': '', 'pogostost_v_zem_skorji': '', 'izvor': 'synthetic', 'argegato': 'unknown phase'}, {'atomsko_st': '112', 'simbol': 'Cn', 'ime': 'Copernicium', 'izvor_imena': 'Nicolaus Copernicus, Polish astronomer', 'skupina': '12', 'perioda': '7', 'blok': 'd-block', 'rel_at_masa': '[285]', 'gostota': '(14.0)', 'talisce': '(283±11)', 'vrelisce': '(340±10)', 'spec_toplota': '', 'el_neg': '', 'pogostost_v_zem_skorji': '', 'izvor': 'synthetic', 'argegato': 'unknown phase'}, {'atomsko_st': '113', 'simbol': 'Nh', 'ime': 'Nihonium', 'izvor_imena': \"Japanese Nihon, 'Japan', where the element was first synthesised in the Riken laboratories\", 'skupina': '13', 'perioda': '7', 'blok': 'p-block', 'rel_at_masa': '[286]', 'gostota': '(16)', 'talisce': '(700)', 'vrelisce': '(1400)', 'spec_toplota': '', 'el_neg': '', 'pogostost_v_zem_skorji': '', 'izvor': 'synthetic', 'argegato': 'unknown phase'}, {'atomsko_st': '114', 'simbol': 'Fl', 'ime': 'Flerovium', 'izvor_imena': 'Joint Institute for Nuclear Research, part of JINR, where the element was synthesised; itself named after Georgy Flyorov, Russian physicist', 'skupina': '14', 'perioda': '7', 'blok': 'p-block', 'rel_at_masa': '[289]', 'gostota': '(11.4±0.3)', 'talisce': '(284±50)', 'vrelisce': '', 'spec_toplota': '', 'el_neg': '', 'pogostost_v_zem_skorji': '', 'izvor': 'synthetic', 'argegato': 'unknown phase'}, {'atomsko_st': '115', 'simbol': 'Mc', 'ime': 'Moscovium', 'izvor_imena': 'Moscow, Russia, where the element was first synthesised in the JINR laboratories', 'skupina': '15', 'perioda': '7', 'blok': 'p-block', 'rel_at_masa': '[290]', 'gostota': '(13.5)', 'talisce': '(700)', 'vrelisce': '(1400)', 'spec_toplota': '', 'el_neg': '', 'pogostost_v_zem_skorji': '', 'izvor': 'synthetic', 'argegato': 'unknown phase'}, {'atomsko_st': '116', 'simbol': 'Lv', 'ime': 'Livermorium', 'izvor_imena': 'Lawrence Livermore National Laboratory in Livermore, California', 'skupina': '16', 'perioda': '7', 'blok': 'p-block', 'rel_at_masa': '[293]', 'gostota': '(12.9)', 'talisce': '(700)', 'vrelisce': '(1100)', 'spec_toplota': '', 'el_neg': '', 'pogostost_v_zem_skorji': '', 'izvor': 'synthetic', 'argegato': 'unknown phase'}, {'atomsko_st': '117', 'simbol': 'Ts', 'ime': 'Tennessine', 'izvor_imena': 'Tennessee, United States, where Oak Ridge National Laboratory is located', 'skupina': '17', 'perioda': '7', 'blok': 'p-block', 'rel_at_masa': '[294]', 'gostota': '(7.17.3)', 'talisce': '(700)', 'vrelisce': '(883)', 'spec_toplota': '', 'el_neg': '', 'pogostost_v_zem_skorji': '', 'izvor': 'synthetic', 'argegato': 'unknown phase'}, {'atomsko_st': '118', 'simbol': 'Og', 'ime': 'Oganesson', 'izvor_imena': 'Yuri Oganessian, Russian physicist', 'skupina': '18', 'perioda': '7', 'blok': 'p-block', 'rel_at_masa': '[294]', 'gostota': '(7)', 'talisce': '(325±15)', 'vrelisce': '(450±10)', 'spec_toplota': '', 'el_neg': '', 'pogostost_v_zem_skorji': '', 'izvor': 'synthetic', 'argegato': 'unknown phase'}]\n"
     ]
    }
   ],
   "source": [
    "p = luscenje(directory_dat, datoteka_html)\n",
    "print(p)"
   ]
  },
  {
   "cell_type": "markdown",
   "metadata": {},
   "source": [
    "## 3. Shranjevanje podatko"
   ]
  },
  {
   "cell_type": "markdown",
   "metadata": {},
   "source": [
    "Napišemo funkcijo, ki nam bo zgornje izlušene podatke shranila v csv datoteko."
   ]
  },
  {
   "cell_type": "code",
   "execution_count": 29,
   "metadata": {},
   "outputs": [],
   "source": [
    "def zapisi_v_csv(dat, csv_file):\n",
    "    stolpci = ['atomsko_st', 'simbol', 'ime', 'izvor_imena', 'skupina', 'perioda', 'blok', 'rel_at_masa', 'gostota', 'talisce', 'vrelisce', 'spec_toplota', 'el_neg', 'pogostost_v_zem_skorji', 'izvor', 'argegato']\n",
    "    with open(csv_file, 'w', newline='', encoding='utf-8') as f:\n",
    "        writer = csv.DictWriter(f, fieldnames=stolpci)\n",
    "        writer.writeheader()\n",
    "        writer.writerows(dat)\n",
    "    print('Uspesno zapisano v', csv_file)"
   ]
  },
  {
   "cell_type": "code",
   "execution_count": 30,
   "metadata": {},
   "outputs": [
    {
     "name": "stdout",
     "output_type": "stream",
     "text": [
      "Uspesno zapisano v elementi.csv\n"
     ]
    }
   ],
   "source": [
    "zapisi_v_csv(p, elementi)"
   ]
  }
 ],
 "metadata": {
  "kernelspec": {
   "display_name": "Python 3",
   "language": "python",
   "name": "python3"
  },
  "language_info": {
   "codemirror_mode": {
    "name": "ipython",
    "version": 3
   },
   "file_extension": ".py",
   "mimetype": "text/x-python",
   "name": "python",
   "nbconvert_exporter": "python",
   "pygments_lexer": "ipython3",
   "version": "3.11.5"
  },
  "orig_nbformat": 4
 },
 "nbformat": 4,
 "nbformat_minor": 2
}
