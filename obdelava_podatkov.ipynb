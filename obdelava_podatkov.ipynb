{
 "cells": [
  {
   "cell_type": "markdown",
   "metadata": {},
   "source": [
    "# Obdelava podatkov"
   ]
  },
  {
   "cell_type": "code",
   "execution_count": null,
   "metadata": {},
   "outputs": [],
   "source": [
    "import re\n",
    "from bs4 import BeautifulSoup\n",
    "import requests\n",
    "import os\n",
    "import csv"
   ]
  },
  {
   "cell_type": "markdown",
   "metadata": {},
   "source": [
    "## 1. Pridobivanje podatkov\n",
    "Prvo definiramo spremenljivke:"
   ]
  },
  {
   "cell_type": "code",
   "execution_count": null,
   "metadata": {},
   "outputs": [],
   "source": [
    "url_wiki = 'https://en.wikipedia.org/wiki/List_of_chemical_elements'\n"
   ]
  },
  {
   "cell_type": "markdown",
   "metadata": {},
   "source": [
    "Potem napišemo funkcijo, ki podatke dobi iz spleta:"
   ]
  },
  {
   "cell_type": "code",
   "execution_count": 2,
   "metadata": {},
   "outputs": [],
   "source": [
    "def podatke_iz_spleta(url):\n",
    "    try:\n",
    "        odziv = requests.get(url)\n",
    "        if odziv.status == 200:    #200 pomeni, da je slo vse v redu\n",
    "            return odziv.text\n",
    "        else:\n",
    "            raise ValueError(f'Napaka v kodi: {odziv.status_code}')\n",
    "    except Exception:\n",
    "        print(f'Nalaganje strani {url} je bilo neuspešno')\n"
   ]
  },
  {
   "cell_type": "markdown",
   "metadata": {},
   "source": [
    "potem napisemo funkcijo, ki bo te podatke shranila v file:"
   ]
  },
  {
   "cell_type": "code",
   "execution_count": 3,
   "metadata": {},
   "outputs": [],
   "source": [
    "def shrani_v_file(vsebina, directory, file):\n",
    "    os.makedirs(directory, exist_ok=True)\n",
    "    path = os.path.join(directory, file)\n",
    "    with open(path, 'w', encoding='utf-8') as file_out:\n",
    "        file_out.write(vsebina)\n",
    "    return None"
   ]
  },
  {
   "cell_type": "markdown",
   "metadata": {},
   "source": [
    "in še funkcije, ki združi prejšnji funkciji:"
   ]
  },
  {
   "cell_type": "code",
   "execution_count": 4,
   "metadata": {},
   "outputs": [],
   "source": [
    "def shrani(stran, directory, file):\n",
    "    vsebina = podatke_iz_spleta(stran)\n",
    "    shrani_v_file(vsebina, directory, file)"
   ]
  },
  {
   "cell_type": "code",
   "execution_count": 14,
   "metadata": {},
   "outputs": [
    {
     "name": "stdout",
     "output_type": "stream",
     "text": [
      "Nalaganje stranihttps://en.wikipedia.org/wiki/List_of_chemical_elements je bilo neuspešno\n"
     ]
    },
    {
     "ename": "NameError",
     "evalue": "name 'os' is not defined",
     "output_type": "error",
     "traceback": [
      "\u001b[1;31m---------------------------------------------------------------------------\u001b[0m",
      "\u001b[1;31mNameError\u001b[0m                                 Traceback (most recent call last)",
      "\u001b[1;32mc:\\Users\\filip\\OneDrive\\Dokumenti\\finančna\\1_letnik\\UVP\\ProjektnaNaloga\\obdelava_podatkov.ipynb Cell 11\u001b[0m line \u001b[0;36m1\n\u001b[1;32m----> <a href='vscode-notebook-cell:/c%3A/Users/filip/OneDrive/Dokumenti/finan%C4%8Dna/1_letnik/UVP/ProjektnaNaloga/obdelava_podatkov.ipynb#X16sZmlsZQ%3D%3D?line=0'>1</a>\u001b[0m shrani(\u001b[39m'\u001b[39;49m\u001b[39mhttps://en.wikipedia.org/wiki/List_of_chemical_elements\u001b[39;49m\u001b[39m'\u001b[39;49m, \u001b[39m'\u001b[39;49m\u001b[39mProjektnaNaloga\u001b[39;49m\u001b[39m'\u001b[39;49m, \u001b[39m'\u001b[39;49m\u001b[39mpodatki.html\u001b[39;49m\u001b[39m'\u001b[39;49m)\n",
      "\u001b[1;32mc:\\Users\\filip\\OneDrive\\Dokumenti\\finančna\\1_letnik\\UVP\\ProjektnaNaloga\\obdelava_podatkov.ipynb Cell 11\u001b[0m line \u001b[0;36m3\n\u001b[0;32m      <a href='vscode-notebook-cell:/c%3A/Users/filip/OneDrive/Dokumenti/finan%C4%8Dna/1_letnik/UVP/ProjektnaNaloga/obdelava_podatkov.ipynb#X16sZmlsZQ%3D%3D?line=0'>1</a>\u001b[0m \u001b[39mdef\u001b[39;00m \u001b[39mshrani\u001b[39m(stran, directory, file):\n\u001b[0;32m      <a href='vscode-notebook-cell:/c%3A/Users/filip/OneDrive/Dokumenti/finan%C4%8Dna/1_letnik/UVP/ProjektnaNaloga/obdelava_podatkov.ipynb#X16sZmlsZQ%3D%3D?line=1'>2</a>\u001b[0m     vsebina \u001b[39m=\u001b[39m podatke_iz_spleta(stran)\n\u001b[1;32m----> <a href='vscode-notebook-cell:/c%3A/Users/filip/OneDrive/Dokumenti/finan%C4%8Dna/1_letnik/UVP/ProjektnaNaloga/obdelava_podatkov.ipynb#X16sZmlsZQ%3D%3D?line=2'>3</a>\u001b[0m     shrani_v_file(vsebina, directory, file)\n",
      "\u001b[1;32mc:\\Users\\filip\\OneDrive\\Dokumenti\\finančna\\1_letnik\\UVP\\ProjektnaNaloga\\obdelava_podatkov.ipynb Cell 11\u001b[0m line \u001b[0;36m2\n\u001b[0;32m      <a href='vscode-notebook-cell:/c%3A/Users/filip/OneDrive/Dokumenti/finan%C4%8Dna/1_letnik/UVP/ProjektnaNaloga/obdelava_podatkov.ipynb#X16sZmlsZQ%3D%3D?line=0'>1</a>\u001b[0m \u001b[39mdef\u001b[39;00m \u001b[39mshrani_v_file\u001b[39m(vsebina, directory, file):\n\u001b[1;32m----> <a href='vscode-notebook-cell:/c%3A/Users/filip/OneDrive/Dokumenti/finan%C4%8Dna/1_letnik/UVP/ProjektnaNaloga/obdelava_podatkov.ipynb#X16sZmlsZQ%3D%3D?line=1'>2</a>\u001b[0m     os\u001b[39m.\u001b[39mmakedirs(directory, exist_ok\u001b[39m=\u001b[39m\u001b[39mTrue\u001b[39;00m)\n\u001b[0;32m      <a href='vscode-notebook-cell:/c%3A/Users/filip/OneDrive/Dokumenti/finan%C4%8Dna/1_letnik/UVP/ProjektnaNaloga/obdelava_podatkov.ipynb#X16sZmlsZQ%3D%3D?line=2'>3</a>\u001b[0m     path \u001b[39m=\u001b[39m os\u001b[39m.\u001b[39mpath\u001b[39m.\u001b[39mjoin(directory, file)\n\u001b[0;32m      <a href='vscode-notebook-cell:/c%3A/Users/filip/OneDrive/Dokumenti/finan%C4%8Dna/1_letnik/UVP/ProjektnaNaloga/obdelava_podatkov.ipynb#X16sZmlsZQ%3D%3D?line=3'>4</a>\u001b[0m     \u001b[39mwith\u001b[39;00m \u001b[39mopen\u001b[39m(path, \u001b[39m'\u001b[39m\u001b[39mw\u001b[39m\u001b[39m'\u001b[39m, encoding\u001b[39m=\u001b[39m\u001b[39m'\u001b[39m\u001b[39mutf-8\u001b[39m\u001b[39m'\u001b[39m) \u001b[39mas\u001b[39;00m file_out:\n",
      "\u001b[1;31mNameError\u001b[0m: name 'os' is not defined"
     ]
    }
   ],
   "source": [
    "shrani('https://en.wikipedia.org/wiki/List_of_chemical_elements', 'ProjektnaNaloga', 'podatki.html')"
   ]
  }
 ],
 "metadata": {
  "kernelspec": {
   "display_name": "Python 3",
   "language": "python",
   "name": "python3"
  },
  "language_info": {
   "codemirror_mode": {
    "name": "ipython",
    "version": 3
   },
   "file_extension": ".py",
   "mimetype": "text/x-python",
   "name": "python",
   "nbconvert_exporter": "python",
   "pygments_lexer": "ipython3",
   "version": "3.11.5"
  },
  "orig_nbformat": 4
 },
 "nbformat": 4,
 "nbformat_minor": 2
}
